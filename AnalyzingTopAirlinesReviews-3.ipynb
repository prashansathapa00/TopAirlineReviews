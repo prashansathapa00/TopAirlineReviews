{
 "cells": [
  {
   "cell_type": "markdown",
   "metadata": {},
   "source": [
    "## <p style = \"text-align: center; font-weight: bold;\">Analyzing top airlines review</p>"
   ]
  },
  {
   "cell_type": "markdown",
   "metadata": {},
   "source": [
    "-----------------------------------------------------------------------------------------\n",
    "#### <p style = \"text-align: center; font-weight: bold;\">Importing Data</p>\n",
    "-----------------------------------------------------------------------------------------"
   ]
  },
  {
   "cell_type": "code",
   "execution_count": 1,
   "metadata": {},
   "outputs": [
    {
     "name": "stderr",
     "output_type": "stream",
     "text": [
      "24/04/02 04:10:13 WARN Utils: Your hostname, Bikins-MacBook-Pro.local resolves to a loopback address: 127.0.0.1; using 10.0.0.53 instead (on interface en0)\n",
      "24/04/02 04:10:13 WARN Utils: Set SPARK_LOCAL_IP if you need to bind to another address\n",
      "Setting default log level to \"WARN\".\n",
      "To adjust logging level use sc.setLogLevel(newLevel). For SparkR, use setLogLevel(newLevel).\n",
      "24/04/02 04:10:13 WARN NativeCodeLoader: Unable to load native-hadoop library for your platform... using builtin-java classes where applicable\n",
      "                                                                                \r"
     ]
    }
   ],
   "source": [
    "from pyspark.sql import SparkSession\n",
    "import pyspark.sql.functions as F\n",
    "from pyspark.sql.functions import to_date, col, regexp_replace, length, mean, monotonically_increasing_id\n",
    "from tqdm import tqdm\n",
    "\n",
    "# Create a SparkSession\n",
    "spark = SparkSession.builder \\\n",
    "    .appName(\"Load Airlines Reviews\") \\\n",
    "    .getOrCreate()\n",
    "\n",
    "# Load data from CSV file\n",
    "df = spark.read.csv(\"Datasets/airlines_reviews.csv\", header=True, inferSchema=True, multiLine=True, escape='\"') # multiLine=True, escape='\"' to handle multiline reviews"
   ]
  },
  {
   "cell_type": "markdown",
   "metadata": {},
   "source": [
    "-----------------------------------------------------------------------------------------\n",
    "#### <p style = \"text-align: center; font-weight: bold;\">Checking Data for cleaning</b>\n",
    "-----------------------------------------------------------------------------------------"
   ]
  },
  {
   "cell_type": "code",
   "execution_count": 2,
   "metadata": {},
   "outputs": [
    {
     "name": "stdout",
     "output_type": "stream",
     "text": [
      "root\n",
      " |-- Title: string (nullable = true)\n",
      " |-- Name: string (nullable = true)\n",
      " |-- Review Date: date (nullable = true)\n",
      " |-- Airline: string (nullable = true)\n",
      " |-- Verified: string (nullable = true)\n",
      " |-- Reviews: string (nullable = true)\n",
      " |-- Type of Traveller: string (nullable = true)\n",
      " |-- Month Flown: string (nullable = true)\n",
      " |-- Route: string (nullable = true)\n",
      " |-- Class: string (nullable = true)\n",
      " |-- Seat Comfort: integer (nullable = true)\n",
      " |-- Staff Service: integer (nullable = true)\n",
      " |-- Food & Beverages: integer (nullable = true)\n",
      " |-- Inflight Entertainment: integer (nullable = true)\n",
      " |-- Value For Money: integer (nullable = true)\n",
      " |-- Overall Rating: integer (nullable = true)\n",
      " |-- Recommended: string (nullable = true)\n",
      "\n"
     ]
    }
   ],
   "source": [
    "# Print the schema\n",
    "df.printSchema()"
   ]
  },
  {
   "cell_type": "code",
   "execution_count": 3,
   "metadata": {},
   "outputs": [
    {
     "name": "stdout",
     "output_type": "stream",
     "text": [
      "+--------------------+----------------+-----------+------------------+--------+--------------------+-----------------+-------------+--------------------+--------------+------------+-------------+----------------+----------------------+---------------+--------------+-----------+\n",
      "|               Title|            Name|Review Date|           Airline|Verified|             Reviews|Type of Traveller|  Month Flown|               Route|         Class|Seat Comfort|Staff Service|Food & Beverages|Inflight Entertainment|Value For Money|Overall Rating|Recommended|\n",
      "+--------------------+----------------+-----------+------------------+--------+--------------------+-----------------+-------------+--------------------+--------------+------------+-------------+----------------+----------------------+---------------+--------------+-----------+\n",
      "|  Flight was amazing|Alison Soetantyo| 2024-03-01|Singapore Airlines|    True|  Flight was amaz...|     Solo Leisure|December 2023|Jakarta to Singapore|Business Class|           4|            4|               4|                     4|              4|             9|        yes|\n",
      "|seats on this air...|   Robert Watson| 2024-02-21|Singapore Airlines|    True|  Booking an emer...|     Solo Leisure|February 2024| Phuket to Singapore| Economy Class|           5|            3|               4|                     4|              1|             3|         no|\n",
      "|Food was plentifu...|           S Han| 2024-02-20|Singapore Airlines|    True|  Excellent perfo...|   Family Leisure|February 2024|Siem Reap to Sing...| Economy Class|           1|            5|               2|                     1|              5|            10|        yes|\n",
      "|“how much food wa...|        D Laynes| 2024-02-19|Singapore Airlines|    True| Pretty comfortab...|     Solo Leisure|February 2024|Singapore to Lond...| Economy Class|           5|            5|               5|                     5|              5|            10|        yes|\n",
      "|“service was cons...|       A Othman | 2024-02-19|Singapore Airlines|    True| The service was ...|   Family Leisure|February 2024|Singapore to Phno...| Economy Class|           5|            5|               5|                     5|              5|            10|        yes|\n",
      "|“seat is absolute...|   Robert Watson| 2024-02-19|Singapore Airlines|    True| This flight was ...|     Solo Leisure|February 2024| Singapore to Cairns| Economy Class|           5|            1|               5|                     5|              1|             3|         no|\n",
      "|Very ordinary ser...|        S Holger| 2024-02-19|Singapore Airlines|    True|  Boarding proces...|     Solo Leisure|February 2024|Singapore to Fran...| Economy Class|           1|            3|               1|                     2|              2|             5|         no|\n",
      "|I like flying thi...|         A Jabil| 2024-02-19|Singapore Airlines|    True|  Pleasant flight...|   Family Leisure|February 2024|Singapore to Band...| Economy Class|           2|            5|               3|                     4|              5|            10|        yes|\n",
      "|left me deeply di...|      A Kalarsan| 2024-02-18|Singapore Airlines|    True|  I embarked on a...|         Business|February 2024|Singapore to Jakarta| Economy Class|           5|            4|               5|                     5|              3|             4|         no|\n",
      "|can’t fault a sin...|         S Dayle| 2024-02-17|Singapore Airlines|    True|  No queue at che...|   Family Leisure|February 2024|Siem Reap to Sing...| Economy Class|           4|            5|               4|                     3|              5|            10|        yes|\n",
      "|No complaints at all|        J Hassin| 2024-02-17|Singapore Airlines|    True|  Competitive pri...|     Solo Leisure|February 2024|Bandar Seri Begaw...| Economy Class|           5|            5|               5|                     5|              5|            10|        yes|\n",
      "|   “I was impressed”|         N Allen| 2024-02-16|Singapore Airlines|    True| This was my firs...|   Family Leisure|February 2024|Singapore to Phno...| Economy Class|           5|            5|               5|                     5|              4|            10|        yes|\n",
      "|    “Superb service”|         N Allen| 2024-02-16|Singapore Airlines|    True| Superb service e...|     Solo Leisure|February 2024|London Heathrow t...| Economy Class|           4|            5|               5|                     5|              5|            10|        yes|\n",
      "|regional seat was...|           L Hee| 2024-02-16|Singapore Airlines|    True|  I was one of th...|     Solo Leisure| January 2024|Singapore to Toky...|Business Class|           5|            1|               5|                     5|              3|             2|        yes|\n",
      "|“no problems what...|       Jason Keh| 2024-02-09|Singapore Airlines|   False|  The flight is v...|   Family Leisure|February 2024|Singapore to Hong...|Business Class|           1|            5|               4|                     5|              5|            10|        yes|\n",
      "|crew serving busi...|        C Harmon| 2024-02-01|Singapore Airlines|    True|  I flew Perth to...|     Solo Leisure| January 2024|Perth to Hong Kon...|Business Class|           5|            4|               5|                     4|              4|             8|        yes|\n",
      "|agent took out tr...|     Niki Kladis| 2024-01-29|Singapore Airlines|    True|  For my final tr...|     Solo Leisure|December 2023|Sydney to Istanbu...|Business Class|           4|            5|               4|                     5|              3|             2|         no|\n",
      "|one of the best f...|        E Darlon| 2024-01-25|Singapore Airlines|    True|  Booked a wheelc...|     Solo Leisure| January 2024|Milan to Bangkok ...| Economy Class|           4|            5|               5|                     5|              5|            10|        yes|\n",
      "|“received amazing...|      B Morrison| 2024-01-19|Singapore Airlines|    True| I initially book...|     Solo Leisure|November 2023|London to Manila ...| Economy Class|           5|            1|               5|                     5|              5|            10|        yes|\n",
      "|not fly with them...|         H Paran| 2024-01-18|Singapore Airlines|    True|  I flew on SQ217...|   Couple Leisure| January 2024|Singapore to Melb...| Economy Class|           1|            1|               1|                     1|              1|             2|         no|\n",
      "+--------------------+----------------+-----------+------------------+--------+--------------------+-----------------+-------------+--------------------+--------------+------------+-------------+----------------+----------------------+---------------+--------------+-----------+\n",
      "only showing top 20 rows\n",
      "\n"
     ]
    }
   ],
   "source": [
    "# Show the dataframe\n",
    "df.show()"
   ]
  },
  {
   "cell_type": "code",
   "execution_count": 4,
   "metadata": {},
   "outputs": [
    {
     "name": "stdout",
     "output_type": "stream",
     "text": [
      "Total reviews: 8100\n"
     ]
    }
   ],
   "source": [
    "# Show total review count\n",
    "total_reviews = df.count()\n",
    "print(\"Total reviews:\", total_reviews)"
   ]
  },
  {
   "cell_type": "code",
   "execution_count": 5,
   "metadata": {},
   "outputs": [
    {
     "name": "stdout",
     "output_type": "stream",
     "text": [
      "+----------------------+\n",
      "|Airline               |\n",
      "+----------------------+\n",
      "|EVA Air               |\n",
      "|Turkish Airlines      |\n",
      "|Qatar Airways         |\n",
      "|Air France            |\n",
      "|Japan Airlines        |\n",
      "|Cathay Pacific Airways|\n",
      "|All Nippon Airways    |\n",
      "|Emirates              |\n",
      "|Singapore Airlines    |\n",
      "|Korean Air            |\n",
      "+----------------------+\n",
      "\n"
     ]
    }
   ],
   "source": [
    "# Show unique airlines\n",
    "df.select(\"Airline\").distinct().show(truncate=False)"
   ]
  },
  {
   "cell_type": "code",
   "execution_count": 6,
   "metadata": {},
   "outputs": [
    {
     "name": "stdout",
     "output_type": "stream",
     "text": [
      "+-----------+\n",
      "|Recommended|\n",
      "+-----------+\n",
      "|no         |\n",
      "|yes        |\n",
      "+-----------+\n",
      "\n"
     ]
    }
   ],
   "source": [
    "# Show unique recommended values\n",
    "df.select(\"Recommended\").distinct().show(truncate=False)"
   ]
  },
  {
   "cell_type": "code",
   "execution_count": 7,
   "metadata": {},
   "outputs": [
    {
     "name": "stdout",
     "output_type": "stream",
     "text": [
      "+------------+-------------+----------------+----------------------+---------------+--------------+\n",
      "|Seat Comfort|Staff Service|Food & Beverages|Inflight Entertainment|Value For Money|Overall Rating|\n",
      "+------------+-------------+----------------+----------------------+---------------+--------------+\n",
      "|           5|            5|               5|                     5|              3|             1|\n",
      "|           5|            5|               5|                     5|              2|             1|\n",
      "|           5|            5|               5|                     5|              2|             1|\n",
      "|           5|            5|               5|                     5|              1|             1|\n",
      "|           5|            5|               5|                     5|              1|             1|\n",
      "|           5|            5|               5|                     5|              1|             1|\n",
      "|           5|            5|               5|                     5|              1|             1|\n",
      "|           5|            5|               5|                     5|              1|             1|\n",
      "|           5|            5|               5|                     5|              1|             1|\n",
      "|           5|            5|               5|                     5|              1|             1|\n",
      "|           5|            5|               5|                     5|              1|             1|\n",
      "|           5|            5|               5|                     5|              1|             1|\n",
      "|           5|            5|               5|                     5|              1|             1|\n",
      "|           5|            5|               5|                     5|              1|             1|\n",
      "|           5|            5|               5|                     5|              1|             1|\n",
      "|           5|            5|               5|                     5|              1|             1|\n",
      "|           5|            5|               5|                     4|              4|             1|\n",
      "|           5|            5|               5|                     4|              2|             1|\n",
      "|           5|            5|               5|                     4|              2|             1|\n",
      "|           5|            5|               5|                     4|              2|             1|\n",
      "+------------+-------------+----------------+----------------------+---------------+--------------+\n",
      "only showing top 20 rows\n",
      "\n"
     ]
    }
   ],
   "source": [
    "# Checking for human errors in scoring\n",
    "df.filter(df[\"Overall Rating\"] == 1).orderBy(\"Seat Comfort\", \"Staff Service\", \"Food & Beverages\", \"Inflight Entertainment\", \"Value For Money\", ascending=False).select(\"Seat Comfort\", \"Staff Service\", \"Food & Beverages\", \"Inflight Entertainment\", \"Value For Money\", \"Overall Rating\").show()\n"
   ]
  },
  {
   "cell_type": "markdown",
   "metadata": {},
   "source": [
    "-----------------------------------------------------------------------------------------\n",
    "#### <p style = \"text-align: center; font-weight: bold;\">Data Cleaning</p>\n",
    "-----------------------------------------------------------------------------------------"
   ]
  },
  {
   "cell_type": "code",
   "execution_count": 8,
   "metadata": {},
   "outputs": [],
   "source": [
    "# Convert Month Flown to date format\n",
    "df = df.withColumn(\"Month Flown\", to_date(df[\"Month Flown\"], \"MMMM yyyy\"))\n",
    "\n",
    "# Convert Recommended to boolean\n",
    "df = df.withColumn(\"Recommended\", col(\"Recommended\").cast(\"boolean\"))"
   ]
  },
  {
   "cell_type": "code",
   "execution_count": 9,
   "metadata": {},
   "outputs": [],
   "source": [
    "# Change special characters in Title\n",
    "df = df.withColumn(\"Title\", regexp_replace(df[\"Title\"], \"\\\"\", \"\"))\n",
    "df = df.withColumn(\"Title\", regexp_replace(df[\"Title\"], \"“|”\", \"\"))\n",
    "df = df.withColumn(\"Reviews\", regexp_replace(df[\"Title\"], \"\\\"\", \"\"))\n",
    "df = df.withColumn(\"Reviews\", regexp_replace(df[\"Title\"], \"“|”\", \"\"))"
   ]
  },
  {
   "cell_type": "code",
   "execution_count": 10,
   "metadata": {},
   "outputs": [
    {
     "name": "stdout",
     "output_type": "stream",
     "text": [
      "+--------------------+----------------+-----------+------------------+--------------------+-----------+--------------+------------+-------------+----------------+----------------------+---------------+--------------+-----------+------------------------+---------+\n",
      "|        Review Title|        Reviewer|Review Date|           Airline|      Review Content|Flight Date|         Class|Seat Comfort|Staff Service|Food & Beverages|Inflight Entertainment|Value For Money|Overall Rating|Recommended|Corrected Overall Rating|Review ID|\n",
      "+--------------------+----------------+-----------+------------------+--------------------+-----------+--------------+------------+-------------+----------------+----------------------+---------------+--------------+-----------+------------------------+---------+\n",
      "|  Flight was amazing|Alison Soetantyo| 2024-03-01|Singapore Airlines|  Flight was amazing| 2023-12-01|Business Class|           4|            4|               4|                     4|              4|           4.5|       true|                     4.0|        0|\n",
      "|seats on this air...|   Robert Watson| 2024-02-21|Singapore Airlines|seats on this air...| 2024-02-01| Economy Class|           5|            3|               4|                     4|              1|           1.5|      false|                     3.4|        1|\n",
      "|Food was plentifu...|           S Han| 2024-02-20|Singapore Airlines|Food was plentifu...| 2024-02-01| Economy Class|           1|            5|               2|                     1|              5|           5.0|       true|                     2.8|        2|\n",
      "|how much food was...|        D Laynes| 2024-02-19|Singapore Airlines|how much food was...| 2024-02-01| Economy Class|           5|            5|               5|                     5|              5|           5.0|       true|                     5.0|        3|\n",
      "|service was consi...|       A Othman | 2024-02-19|Singapore Airlines|service was consi...| 2024-02-01| Economy Class|           5|            5|               5|                     5|              5|           5.0|       true|                     5.0|        4|\n",
      "|seat is absolutel...|   Robert Watson| 2024-02-19|Singapore Airlines|seat is absolutel...| 2024-02-01| Economy Class|           5|            1|               5|                     5|              1|           1.5|      false|                     3.4|        5|\n",
      "|Very ordinary ser...|        S Holger| 2024-02-19|Singapore Airlines|Very ordinary ser...| 2024-02-01| Economy Class|           1|            3|               1|                     2|              2|           2.5|      false|                     1.8|        6|\n",
      "|I like flying thi...|         A Jabil| 2024-02-19|Singapore Airlines|I like flying thi...| 2024-02-01| Economy Class|           2|            5|               3|                     4|              5|           5.0|       true|                     3.8|        7|\n",
      "|left me deeply di...|      A Kalarsan| 2024-02-18|Singapore Airlines|left me deeply di...| 2024-02-01| Economy Class|           5|            4|               5|                     5|              3|           2.0|      false|                     4.4|        8|\n",
      "|can’t fault a sin...|         S Dayle| 2024-02-17|Singapore Airlines|can’t fault a sin...| 2024-02-01| Economy Class|           4|            5|               4|                     3|              5|           5.0|       true|                     4.2|        9|\n",
      "|No complaints at all|        J Hassin| 2024-02-17|Singapore Airlines|No complaints at all| 2024-02-01| Economy Class|           5|            5|               5|                     5|              5|           5.0|       true|                     5.0|       10|\n",
      "|     I was impressed|         N Allen| 2024-02-16|Singapore Airlines|     I was impressed| 2024-02-01| Economy Class|           5|            5|               5|                     5|              4|           5.0|       true|                     4.8|       11|\n",
      "|      Superb service|         N Allen| 2024-02-16|Singapore Airlines|      Superb service| 2024-02-01| Economy Class|           4|            5|               5|                     5|              5|           5.0|       true|                     4.8|       12|\n",
      "|regional seat was...|           L Hee| 2024-02-16|Singapore Airlines|regional seat was...| 2024-01-01|Business Class|           5|            1|               5|                     5|              3|           1.0|       true|                     3.8|       13|\n",
      "|no problems whats...|       Jason Keh| 2024-02-09|Singapore Airlines|no problems whats...| 2024-02-01|Business Class|           1|            5|               4|                     5|              5|           5.0|       true|                     4.0|       14|\n",
      "|crew serving busi...|        C Harmon| 2024-02-01|Singapore Airlines|crew serving busi...| 2024-01-01|Business Class|           5|            4|               5|                     4|              4|           4.0|       true|                     4.4|       15|\n",
      "|agent took out tr...|     Niki Kladis| 2024-01-29|Singapore Airlines|agent took out tr...| 2023-12-01|Business Class|           4|            5|               4|                     5|              3|           1.0|      false|                     4.2|       16|\n",
      "|one of the best f...|        E Darlon| 2024-01-25|Singapore Airlines|one of the best f...| 2024-01-01| Economy Class|           4|            5|               5|                     5|              5|           5.0|       true|                     4.8|       17|\n",
      "|received amazing ...|      B Morrison| 2024-01-19|Singapore Airlines|received amazing ...| 2023-11-01| Economy Class|           5|            1|               5|                     5|              5|           5.0|       true|                     4.2|       18|\n",
      "|not fly with them...|         H Paran| 2024-01-18|Singapore Airlines|not fly with them...| 2024-01-01| Economy Class|           1|            1|               1|                     1|              1|           1.0|      false|                     1.0|       19|\n",
      "+--------------------+----------------+-----------+------------------+--------------------+-----------+--------------+------------+-------------+----------------+----------------------+---------------+--------------+-----------+------------------------+---------+\n",
      "only showing top 20 rows\n",
      "\n"
     ]
    }
   ],
   "source": [
    "from pyspark.sql.functions import col\n",
    "# Create a dataframe with only necessary columns\n",
    "selected_df = df.select(col(\"Title\").alias(\"Review Title\"), col(\"Name\").alias(\"Reviewer\"), \"Review Date\", \"Airline\", col(\"Reviews\").alias(\"Review Content\"), col(\"Month Flown\").alias(\"Flight Date\"), \"Class\", \"Seat Comfort\", \"Staff Service\", \"Food & Beverages\", \"Inflight Entertainment\", \"Value For Money\", \"Overall Rating\", \"Recommended\")\n",
    "\n",
    "\n",
    "# Convert Overall Rating from out of 10 to out of 5\n",
    "selected_df = selected_df.withColumn(\"Overall Rating\", col(\"Overall Rating\") / 2)\n",
    "\n",
    "# Calculate the corrected overall rating\n",
    "selected_df = selected_df.withColumn(\"Corrected Overall Rating\", (col(\"Seat Comfort\") + col(\"Staff Service\") + col(\"Food & Beverages\") + col(\"Inflight Entertainment\") + col(\"Value For Money\")) / 5)\n",
    "\n",
    "# Add an auto-incremental Review ID column\n",
    "selected_df = selected_df.withColumn(\"Review ID\", monotonically_increasing_id())\n",
    "\n",
    "selected_df.show()\n"
   ]
  },
  {
   "cell_type": "markdown",
   "metadata": {},
   "source": [
    "-----------------------------------------------------------------------------------------\n",
    "#### <p style = \"text-align: center; font-weight: bold;\">Data Analysis</p>\n",
    "-----------------------------------------------------------------------------------------"
   ]
  },
  {
   "cell_type": "code",
   "execution_count": 11,
   "metadata": {},
   "outputs": [],
   "source": [
    "import plotly.express as px\n",
    "import plotly.graph_objects as go"
   ]
  },
  {
   "cell_type": "code",
   "execution_count": 12,
   "metadata": {},
   "outputs": [
    {
     "data": {
      "application/vnd.plotly.v1+json": {
       "config": {
        "plotlyServerURL": "https://plot.ly"
       },
       "data": [
        {
         "hovertemplate": "Flight Date=%{x}<br>avg(Corrected Overall Rating)=%{y}<extra></extra>",
         "legendgroup": "",
         "marker": {
          "color": "#636efa",
          "symbol": "circle"
         },
         "mode": "markers",
         "name": "",
         "orientation": "v",
         "showlegend": false,
         "type": "scatter",
         "x": [
          "2023-05-01",
          "2015-05-01",
          "2017-10-01",
          "2014-05-01",
          "2022-06-01",
          "2017-11-01",
          "2020-01-01",
          "2021-07-01",
          "2015-09-01",
          "2015-11-01",
          "2019-08-01",
          "2017-12-01",
          "2019-04-01",
          "2018-01-01",
          "2023-09-01",
          "2016-04-01",
          "2016-12-01",
          "2022-12-01",
          "2021-09-01",
          "2019-01-01",
          "2020-12-01",
          "2016-10-01",
          "2019-12-01",
          "2018-12-01",
          "2016-11-01",
          "2016-08-01",
          "2021-04-01",
          "2021-03-01",
          "2022-03-01",
          "2019-03-01",
          "2018-07-01",
          "2019-02-01",
          "2016-06-01",
          "2023-01-01",
          "2020-06-01",
          "2022-04-01",
          "2017-09-01",
          "2023-12-01",
          "2021-12-01",
          "2019-10-01",
          "2020-09-01",
          "2017-01-01",
          "2023-03-01",
          "2023-11-01",
          "2016-01-01",
          "2016-05-01",
          "2022-07-01",
          "2022-02-01",
          "2016-02-01",
          "2017-03-01",
          "2019-09-01",
          "2017-02-01",
          "2020-07-01",
          "2021-11-01",
          "2022-11-01",
          "2020-03-01",
          "2023-06-01",
          "2024-03-01",
          "2020-10-01",
          "2022-05-01",
          "2018-05-01",
          "2018-02-01",
          "2015-10-01",
          "2023-08-01",
          "2021-02-01",
          "2023-02-01",
          "2021-06-01",
          "2018-03-01",
          "2013-03-01",
          "2020-04-01",
          "2019-05-01",
          "2017-05-01",
          "2021-08-01",
          "2022-09-01",
          "2019-11-01",
          "2017-06-01",
          "2018-11-01",
          "2018-04-01",
          "2016-07-01",
          "2016-09-01",
          "2016-03-01",
          "2018-08-01",
          "2023-04-01",
          "2021-05-01",
          "2023-07-01",
          "2020-02-01",
          "2021-01-01",
          "2023-10-01",
          "2022-08-01",
          "2019-06-01",
          "2019-07-01",
          "2013-04-01",
          "2017-07-01",
          "2018-09-01",
          "2017-08-01",
          "2020-08-01",
          "2018-06-01",
          "2017-04-01",
          "2020-11-01",
          "2024-01-01",
          "2021-10-01",
          "2022-01-01",
          "2018-10-01",
          "2015-12-01",
          "2022-10-01",
          "2024-02-01",
          "2020-05-01"
         ],
         "xaxis": "x",
         "y": [
          3.260240963855422,
          3.4,
          3.731343283582089,
          3.6,
          3.077272727272728,
          3.728,
          3.1634782608695664,
          3.2457142857142847,
          3.8857142857142857,
          3.6399999999999997,
          3.3811965811965834,
          3.5735294117647047,
          3.380165289256199,
          3.596850393700787,
          3.007407407407408,
          3.732631578947369,
          3.6861538461538457,
          3.1320754716981125,
          3.2341463414634144,
          3.4130434782608705,
          3.2090909090909077,
          3.7466666666666666,
          3.2563380281690137,
          3.180701754385963,
          3.771739130434783,
          3.7846153846153836,
          3.4709677419354836,
          3.48695652173913,
          3.191176470588235,
          3.4691588785046727,
          3.3052631578947342,
          3.2533333333333334,
          3.8,
          3.2637681159420278,
          3.5538461538461537,
          3.256790123456789,
          3.65233644859813,
          3.045901639344263,
          3.0243243243243234,
          3.3688888888888906,
          3.0416666666666665,
          3.670312500000001,
          3.6467532467532475,
          3.1093333333333333,
          4.044444444444445,
          3.7536585365853674,
          2.894949494949495,
          3.1692307692307695,
          4.05,
          3.878899082568809,
          3.319008264462809,
          3.7260869565217387,
          3.4444444444444438,
          3.0777777777777775,
          3.2787878787878784,
          3.278846153846154,
          3.2028169014084504,
          3.2000000000000006,
          3.542857142857143,
          3.023655913978494,
          3.650000000000001,
          3.6673469387755113,
          3.6,
          3.05,
          3.4272727272727264,
          3.4433734939759035,
          3.408000000000001,
          3.6536585365853664,
          4.8,
          3.266666666666666,
          3.321666666666666,
          3.7046728971962626,
          2.920833333333333,
          3.192857142857142,
          3.3200000000000003,
          3.7647058823529407,
          3.485714285714284,
          3.55,
          3.7708333333333344,
          3.7678160919540233,
          3.786440677966102,
          3.416417910447761,
          3.397500000000001,
          3.3785714285714286,
          2.8591836734693876,
          3.3029126213592233,
          3.4749999999999996,
          3.205063291139241,
          3.070454545454545,
          3.358823529411766,
          3.3932203389830513,
          4.8,
          3.721739130434781,
          3.3592592592592605,
          3.7648148148148155,
          3.7405405405405405,
          3.4695652173913056,
          3.7777777777777786,
          3.504000000000001,
          3.2379310344827594,
          3.071698113207547,
          3.0370370370370363,
          3.5980582524271854,
          3.7499999999999996,
          3.4382978723404247,
          3.363157894736842,
          3.5999999999999996
         ],
         "yaxis": "y"
        }
       ],
       "layout": {
        "legend": {
         "tracegroupgap": 0
        },
        "template": {
         "data": {
          "bar": [
           {
            "error_x": {
             "color": "#2a3f5f"
            },
            "error_y": {
             "color": "#2a3f5f"
            },
            "marker": {
             "line": {
              "color": "#E5ECF6",
              "width": 0.5
             },
             "pattern": {
              "fillmode": "overlay",
              "size": 10,
              "solidity": 0.2
             }
            },
            "type": "bar"
           }
          ],
          "barpolar": [
           {
            "marker": {
             "line": {
              "color": "#E5ECF6",
              "width": 0.5
             },
             "pattern": {
              "fillmode": "overlay",
              "size": 10,
              "solidity": 0.2
             }
            },
            "type": "barpolar"
           }
          ],
          "carpet": [
           {
            "aaxis": {
             "endlinecolor": "#2a3f5f",
             "gridcolor": "white",
             "linecolor": "white",
             "minorgridcolor": "white",
             "startlinecolor": "#2a3f5f"
            },
            "baxis": {
             "endlinecolor": "#2a3f5f",
             "gridcolor": "white",
             "linecolor": "white",
             "minorgridcolor": "white",
             "startlinecolor": "#2a3f5f"
            },
            "type": "carpet"
           }
          ],
          "choropleth": [
           {
            "colorbar": {
             "outlinewidth": 0,
             "ticks": ""
            },
            "type": "choropleth"
           }
          ],
          "contour": [
           {
            "colorbar": {
             "outlinewidth": 0,
             "ticks": ""
            },
            "colorscale": [
             [
              0,
              "#0d0887"
             ],
             [
              0.1111111111111111,
              "#46039f"
             ],
             [
              0.2222222222222222,
              "#7201a8"
             ],
             [
              0.3333333333333333,
              "#9c179e"
             ],
             [
              0.4444444444444444,
              "#bd3786"
             ],
             [
              0.5555555555555556,
              "#d8576b"
             ],
             [
              0.6666666666666666,
              "#ed7953"
             ],
             [
              0.7777777777777778,
              "#fb9f3a"
             ],
             [
              0.8888888888888888,
              "#fdca26"
             ],
             [
              1,
              "#f0f921"
             ]
            ],
            "type": "contour"
           }
          ],
          "contourcarpet": [
           {
            "colorbar": {
             "outlinewidth": 0,
             "ticks": ""
            },
            "type": "contourcarpet"
           }
          ],
          "heatmap": [
           {
            "colorbar": {
             "outlinewidth": 0,
             "ticks": ""
            },
            "colorscale": [
             [
              0,
              "#0d0887"
             ],
             [
              0.1111111111111111,
              "#46039f"
             ],
             [
              0.2222222222222222,
              "#7201a8"
             ],
             [
              0.3333333333333333,
              "#9c179e"
             ],
             [
              0.4444444444444444,
              "#bd3786"
             ],
             [
              0.5555555555555556,
              "#d8576b"
             ],
             [
              0.6666666666666666,
              "#ed7953"
             ],
             [
              0.7777777777777778,
              "#fb9f3a"
             ],
             [
              0.8888888888888888,
              "#fdca26"
             ],
             [
              1,
              "#f0f921"
             ]
            ],
            "type": "heatmap"
           }
          ],
          "heatmapgl": [
           {
            "colorbar": {
             "outlinewidth": 0,
             "ticks": ""
            },
            "colorscale": [
             [
              0,
              "#0d0887"
             ],
             [
              0.1111111111111111,
              "#46039f"
             ],
             [
              0.2222222222222222,
              "#7201a8"
             ],
             [
              0.3333333333333333,
              "#9c179e"
             ],
             [
              0.4444444444444444,
              "#bd3786"
             ],
             [
              0.5555555555555556,
              "#d8576b"
             ],
             [
              0.6666666666666666,
              "#ed7953"
             ],
             [
              0.7777777777777778,
              "#fb9f3a"
             ],
             [
              0.8888888888888888,
              "#fdca26"
             ],
             [
              1,
              "#f0f921"
             ]
            ],
            "type": "heatmapgl"
           }
          ],
          "histogram": [
           {
            "marker": {
             "pattern": {
              "fillmode": "overlay",
              "size": 10,
              "solidity": 0.2
             }
            },
            "type": "histogram"
           }
          ],
          "histogram2d": [
           {
            "colorbar": {
             "outlinewidth": 0,
             "ticks": ""
            },
            "colorscale": [
             [
              0,
              "#0d0887"
             ],
             [
              0.1111111111111111,
              "#46039f"
             ],
             [
              0.2222222222222222,
              "#7201a8"
             ],
             [
              0.3333333333333333,
              "#9c179e"
             ],
             [
              0.4444444444444444,
              "#bd3786"
             ],
             [
              0.5555555555555556,
              "#d8576b"
             ],
             [
              0.6666666666666666,
              "#ed7953"
             ],
             [
              0.7777777777777778,
              "#fb9f3a"
             ],
             [
              0.8888888888888888,
              "#fdca26"
             ],
             [
              1,
              "#f0f921"
             ]
            ],
            "type": "histogram2d"
           }
          ],
          "histogram2dcontour": [
           {
            "colorbar": {
             "outlinewidth": 0,
             "ticks": ""
            },
            "colorscale": [
             [
              0,
              "#0d0887"
             ],
             [
              0.1111111111111111,
              "#46039f"
             ],
             [
              0.2222222222222222,
              "#7201a8"
             ],
             [
              0.3333333333333333,
              "#9c179e"
             ],
             [
              0.4444444444444444,
              "#bd3786"
             ],
             [
              0.5555555555555556,
              "#d8576b"
             ],
             [
              0.6666666666666666,
              "#ed7953"
             ],
             [
              0.7777777777777778,
              "#fb9f3a"
             ],
             [
              0.8888888888888888,
              "#fdca26"
             ],
             [
              1,
              "#f0f921"
             ]
            ],
            "type": "histogram2dcontour"
           }
          ],
          "mesh3d": [
           {
            "colorbar": {
             "outlinewidth": 0,
             "ticks": ""
            },
            "type": "mesh3d"
           }
          ],
          "parcoords": [
           {
            "line": {
             "colorbar": {
              "outlinewidth": 0,
              "ticks": ""
             }
            },
            "type": "parcoords"
           }
          ],
          "pie": [
           {
            "automargin": true,
            "type": "pie"
           }
          ],
          "scatter": [
           {
            "fillpattern": {
             "fillmode": "overlay",
             "size": 10,
             "solidity": 0.2
            },
            "type": "scatter"
           }
          ],
          "scatter3d": [
           {
            "line": {
             "colorbar": {
              "outlinewidth": 0,
              "ticks": ""
             }
            },
            "marker": {
             "colorbar": {
              "outlinewidth": 0,
              "ticks": ""
             }
            },
            "type": "scatter3d"
           }
          ],
          "scattercarpet": [
           {
            "marker": {
             "colorbar": {
              "outlinewidth": 0,
              "ticks": ""
             }
            },
            "type": "scattercarpet"
           }
          ],
          "scattergeo": [
           {
            "marker": {
             "colorbar": {
              "outlinewidth": 0,
              "ticks": ""
             }
            },
            "type": "scattergeo"
           }
          ],
          "scattergl": [
           {
            "marker": {
             "colorbar": {
              "outlinewidth": 0,
              "ticks": ""
             }
            },
            "type": "scattergl"
           }
          ],
          "scattermapbox": [
           {
            "marker": {
             "colorbar": {
              "outlinewidth": 0,
              "ticks": ""
             }
            },
            "type": "scattermapbox"
           }
          ],
          "scatterpolar": [
           {
            "marker": {
             "colorbar": {
              "outlinewidth": 0,
              "ticks": ""
             }
            },
            "type": "scatterpolar"
           }
          ],
          "scatterpolargl": [
           {
            "marker": {
             "colorbar": {
              "outlinewidth": 0,
              "ticks": ""
             }
            },
            "type": "scatterpolargl"
           }
          ],
          "scatterternary": [
           {
            "marker": {
             "colorbar": {
              "outlinewidth": 0,
              "ticks": ""
             }
            },
            "type": "scatterternary"
           }
          ],
          "surface": [
           {
            "colorbar": {
             "outlinewidth": 0,
             "ticks": ""
            },
            "colorscale": [
             [
              0,
              "#0d0887"
             ],
             [
              0.1111111111111111,
              "#46039f"
             ],
             [
              0.2222222222222222,
              "#7201a8"
             ],
             [
              0.3333333333333333,
              "#9c179e"
             ],
             [
              0.4444444444444444,
              "#bd3786"
             ],
             [
              0.5555555555555556,
              "#d8576b"
             ],
             [
              0.6666666666666666,
              "#ed7953"
             ],
             [
              0.7777777777777778,
              "#fb9f3a"
             ],
             [
              0.8888888888888888,
              "#fdca26"
             ],
             [
              1,
              "#f0f921"
             ]
            ],
            "type": "surface"
           }
          ],
          "table": [
           {
            "cells": {
             "fill": {
              "color": "#EBF0F8"
             },
             "line": {
              "color": "white"
             }
            },
            "header": {
             "fill": {
              "color": "#C8D4E3"
             },
             "line": {
              "color": "white"
             }
            },
            "type": "table"
           }
          ]
         },
         "layout": {
          "annotationdefaults": {
           "arrowcolor": "#2a3f5f",
           "arrowhead": 0,
           "arrowwidth": 1
          },
          "autotypenumbers": "strict",
          "coloraxis": {
           "colorbar": {
            "outlinewidth": 0,
            "ticks": ""
           }
          },
          "colorscale": {
           "diverging": [
            [
             0,
             "#8e0152"
            ],
            [
             0.1,
             "#c51b7d"
            ],
            [
             0.2,
             "#de77ae"
            ],
            [
             0.3,
             "#f1b6da"
            ],
            [
             0.4,
             "#fde0ef"
            ],
            [
             0.5,
             "#f7f7f7"
            ],
            [
             0.6,
             "#e6f5d0"
            ],
            [
             0.7,
             "#b8e186"
            ],
            [
             0.8,
             "#7fbc41"
            ],
            [
             0.9,
             "#4d9221"
            ],
            [
             1,
             "#276419"
            ]
           ],
           "sequential": [
            [
             0,
             "#0d0887"
            ],
            [
             0.1111111111111111,
             "#46039f"
            ],
            [
             0.2222222222222222,
             "#7201a8"
            ],
            [
             0.3333333333333333,
             "#9c179e"
            ],
            [
             0.4444444444444444,
             "#bd3786"
            ],
            [
             0.5555555555555556,
             "#d8576b"
            ],
            [
             0.6666666666666666,
             "#ed7953"
            ],
            [
             0.7777777777777778,
             "#fb9f3a"
            ],
            [
             0.8888888888888888,
             "#fdca26"
            ],
            [
             1,
             "#f0f921"
            ]
           ],
           "sequentialminus": [
            [
             0,
             "#0d0887"
            ],
            [
             0.1111111111111111,
             "#46039f"
            ],
            [
             0.2222222222222222,
             "#7201a8"
            ],
            [
             0.3333333333333333,
             "#9c179e"
            ],
            [
             0.4444444444444444,
             "#bd3786"
            ],
            [
             0.5555555555555556,
             "#d8576b"
            ],
            [
             0.6666666666666666,
             "#ed7953"
            ],
            [
             0.7777777777777778,
             "#fb9f3a"
            ],
            [
             0.8888888888888888,
             "#fdca26"
            ],
            [
             1,
             "#f0f921"
            ]
           ]
          },
          "colorway": [
           "#636efa",
           "#EF553B",
           "#00cc96",
           "#ab63fa",
           "#FFA15A",
           "#19d3f3",
           "#FF6692",
           "#B6E880",
           "#FF97FF",
           "#FECB52"
          ],
          "font": {
           "color": "#2a3f5f"
          },
          "geo": {
           "bgcolor": "white",
           "lakecolor": "white",
           "landcolor": "#E5ECF6",
           "showlakes": true,
           "showland": true,
           "subunitcolor": "white"
          },
          "hoverlabel": {
           "align": "left"
          },
          "hovermode": "closest",
          "mapbox": {
           "style": "light"
          },
          "paper_bgcolor": "white",
          "plot_bgcolor": "#E5ECF6",
          "polar": {
           "angularaxis": {
            "gridcolor": "white",
            "linecolor": "white",
            "ticks": ""
           },
           "bgcolor": "#E5ECF6",
           "radialaxis": {
            "gridcolor": "white",
            "linecolor": "white",
            "ticks": ""
           }
          },
          "scene": {
           "xaxis": {
            "backgroundcolor": "#E5ECF6",
            "gridcolor": "white",
            "gridwidth": 2,
            "linecolor": "white",
            "showbackground": true,
            "ticks": "",
            "zerolinecolor": "white"
           },
           "yaxis": {
            "backgroundcolor": "#E5ECF6",
            "gridcolor": "white",
            "gridwidth": 2,
            "linecolor": "white",
            "showbackground": true,
            "ticks": "",
            "zerolinecolor": "white"
           },
           "zaxis": {
            "backgroundcolor": "#E5ECF6",
            "gridcolor": "white",
            "gridwidth": 2,
            "linecolor": "white",
            "showbackground": true,
            "ticks": "",
            "zerolinecolor": "white"
           }
          },
          "shapedefaults": {
           "line": {
            "color": "#2a3f5f"
           }
          },
          "ternary": {
           "aaxis": {
            "gridcolor": "white",
            "linecolor": "white",
            "ticks": ""
           },
           "baxis": {
            "gridcolor": "white",
            "linecolor": "white",
            "ticks": ""
           },
           "bgcolor": "#E5ECF6",
           "caxis": {
            "gridcolor": "white",
            "linecolor": "white",
            "ticks": ""
           }
          },
          "title": {
           "x": 0.05
          },
          "xaxis": {
           "automargin": true,
           "gridcolor": "white",
           "linecolor": "white",
           "ticks": "",
           "title": {
            "standoff": 15
           },
           "zerolinecolor": "white",
           "zerolinewidth": 2
          },
          "yaxis": {
           "automargin": true,
           "gridcolor": "white",
           "linecolor": "white",
           "ticks": "",
           "title": {
            "standoff": 15
           },
           "zerolinecolor": "white",
           "zerolinewidth": 2
          }
         }
        },
        "title": {
         "text": "Customer Satisfaction Over Time"
        },
        "xaxis": {
         "anchor": "y",
         "domain": [
          0,
          1
         ],
         "title": {
          "text": "Flight Date"
         }
        },
        "yaxis": {
         "anchor": "x",
         "domain": [
          0,
          1
         ],
         "title": {
          "text": "avg(Corrected Overall Rating)"
         }
        }
       }
      }
     },
     "metadata": {},
     "output_type": "display_data"
    }
   ],
   "source": [
    "# Convert 'Flight Date' to string format\n",
    "selected_df = selected_df.withColumn('Flight Date', selected_df['Flight Date'].cast('string'))\n",
    "\n",
    "# Group by 'Flight Date' and calculate the average 'Overall Rating'\n",
    "average_ratings_by_date = selected_df.groupBy('Flight Date').avg('Corrected Overall Rating')\n",
    "\n",
    "average_ratings_by_date.count()\n",
    "\n",
    "# Convert the DataFrame to Pandas\n",
    "average_ratings_by_date_pd = average_ratings_by_date.toPandas()\n",
    "\n",
    "# Create the scatter plot\n",
    "fig = px.scatter(average_ratings_by_date_pd, x='Flight Date', y='avg(Corrected Overall Rating)', title='Customer Satisfaction Over Time')\n",
    "fig.show()"
   ]
  },
  {
   "cell_type": "code",
   "execution_count": 13,
   "metadata": {},
   "outputs": [
    {
     "data": {
      "application/vnd.plotly.v1+json": {
       "config": {
        "plotlyServerURL": "https://plot.ly"
       },
       "data": [
        {
         "alignmentgroup": "True",
         "hovertemplate": "Class=%{x}<br>avg(Corrected Overall Rating)=%{y}<extra></extra>",
         "legendgroup": "",
         "marker": {
          "color": "#636efa",
          "pattern": {
           "shape": ""
          }
         },
         "name": "",
         "offsetgroup": "",
         "orientation": "v",
         "showlegend": false,
         "textposition": "auto",
         "type": "bar",
         "x": [
          "Economy Class",
          "First Class",
          "Premium Economy",
          "Business Class"
         ],
         "xaxis": "x",
         "y": [
          3.360392441860463,
          3.6363636363636362,
          3.5299191374663064,
          3.585836501901144
         ],
         "yaxis": "y"
        }
       ],
       "layout": {
        "barmode": "relative",
        "legend": {
         "tracegroupgap": 0
        },
        "template": {
         "data": {
          "bar": [
           {
            "error_x": {
             "color": "#2a3f5f"
            },
            "error_y": {
             "color": "#2a3f5f"
            },
            "marker": {
             "line": {
              "color": "#E5ECF6",
              "width": 0.5
             },
             "pattern": {
              "fillmode": "overlay",
              "size": 10,
              "solidity": 0.2
             }
            },
            "type": "bar"
           }
          ],
          "barpolar": [
           {
            "marker": {
             "line": {
              "color": "#E5ECF6",
              "width": 0.5
             },
             "pattern": {
              "fillmode": "overlay",
              "size": 10,
              "solidity": 0.2
             }
            },
            "type": "barpolar"
           }
          ],
          "carpet": [
           {
            "aaxis": {
             "endlinecolor": "#2a3f5f",
             "gridcolor": "white",
             "linecolor": "white",
             "minorgridcolor": "white",
             "startlinecolor": "#2a3f5f"
            },
            "baxis": {
             "endlinecolor": "#2a3f5f",
             "gridcolor": "white",
             "linecolor": "white",
             "minorgridcolor": "white",
             "startlinecolor": "#2a3f5f"
            },
            "type": "carpet"
           }
          ],
          "choropleth": [
           {
            "colorbar": {
             "outlinewidth": 0,
             "ticks": ""
            },
            "type": "choropleth"
           }
          ],
          "contour": [
           {
            "colorbar": {
             "outlinewidth": 0,
             "ticks": ""
            },
            "colorscale": [
             [
              0,
              "#0d0887"
             ],
             [
              0.1111111111111111,
              "#46039f"
             ],
             [
              0.2222222222222222,
              "#7201a8"
             ],
             [
              0.3333333333333333,
              "#9c179e"
             ],
             [
              0.4444444444444444,
              "#bd3786"
             ],
             [
              0.5555555555555556,
              "#d8576b"
             ],
             [
              0.6666666666666666,
              "#ed7953"
             ],
             [
              0.7777777777777778,
              "#fb9f3a"
             ],
             [
              0.8888888888888888,
              "#fdca26"
             ],
             [
              1,
              "#f0f921"
             ]
            ],
            "type": "contour"
           }
          ],
          "contourcarpet": [
           {
            "colorbar": {
             "outlinewidth": 0,
             "ticks": ""
            },
            "type": "contourcarpet"
           }
          ],
          "heatmap": [
           {
            "colorbar": {
             "outlinewidth": 0,
             "ticks": ""
            },
            "colorscale": [
             [
              0,
              "#0d0887"
             ],
             [
              0.1111111111111111,
              "#46039f"
             ],
             [
              0.2222222222222222,
              "#7201a8"
             ],
             [
              0.3333333333333333,
              "#9c179e"
             ],
             [
              0.4444444444444444,
              "#bd3786"
             ],
             [
              0.5555555555555556,
              "#d8576b"
             ],
             [
              0.6666666666666666,
              "#ed7953"
             ],
             [
              0.7777777777777778,
              "#fb9f3a"
             ],
             [
              0.8888888888888888,
              "#fdca26"
             ],
             [
              1,
              "#f0f921"
             ]
            ],
            "type": "heatmap"
           }
          ],
          "heatmapgl": [
           {
            "colorbar": {
             "outlinewidth": 0,
             "ticks": ""
            },
            "colorscale": [
             [
              0,
              "#0d0887"
             ],
             [
              0.1111111111111111,
              "#46039f"
             ],
             [
              0.2222222222222222,
              "#7201a8"
             ],
             [
              0.3333333333333333,
              "#9c179e"
             ],
             [
              0.4444444444444444,
              "#bd3786"
             ],
             [
              0.5555555555555556,
              "#d8576b"
             ],
             [
              0.6666666666666666,
              "#ed7953"
             ],
             [
              0.7777777777777778,
              "#fb9f3a"
             ],
             [
              0.8888888888888888,
              "#fdca26"
             ],
             [
              1,
              "#f0f921"
             ]
            ],
            "type": "heatmapgl"
           }
          ],
          "histogram": [
           {
            "marker": {
             "pattern": {
              "fillmode": "overlay",
              "size": 10,
              "solidity": 0.2
             }
            },
            "type": "histogram"
           }
          ],
          "histogram2d": [
           {
            "colorbar": {
             "outlinewidth": 0,
             "ticks": ""
            },
            "colorscale": [
             [
              0,
              "#0d0887"
             ],
             [
              0.1111111111111111,
              "#46039f"
             ],
             [
              0.2222222222222222,
              "#7201a8"
             ],
             [
              0.3333333333333333,
              "#9c179e"
             ],
             [
              0.4444444444444444,
              "#bd3786"
             ],
             [
              0.5555555555555556,
              "#d8576b"
             ],
             [
              0.6666666666666666,
              "#ed7953"
             ],
             [
              0.7777777777777778,
              "#fb9f3a"
             ],
             [
              0.8888888888888888,
              "#fdca26"
             ],
             [
              1,
              "#f0f921"
             ]
            ],
            "type": "histogram2d"
           }
          ],
          "histogram2dcontour": [
           {
            "colorbar": {
             "outlinewidth": 0,
             "ticks": ""
            },
            "colorscale": [
             [
              0,
              "#0d0887"
             ],
             [
              0.1111111111111111,
              "#46039f"
             ],
             [
              0.2222222222222222,
              "#7201a8"
             ],
             [
              0.3333333333333333,
              "#9c179e"
             ],
             [
              0.4444444444444444,
              "#bd3786"
             ],
             [
              0.5555555555555556,
              "#d8576b"
             ],
             [
              0.6666666666666666,
              "#ed7953"
             ],
             [
              0.7777777777777778,
              "#fb9f3a"
             ],
             [
              0.8888888888888888,
              "#fdca26"
             ],
             [
              1,
              "#f0f921"
             ]
            ],
            "type": "histogram2dcontour"
           }
          ],
          "mesh3d": [
           {
            "colorbar": {
             "outlinewidth": 0,
             "ticks": ""
            },
            "type": "mesh3d"
           }
          ],
          "parcoords": [
           {
            "line": {
             "colorbar": {
              "outlinewidth": 0,
              "ticks": ""
             }
            },
            "type": "parcoords"
           }
          ],
          "pie": [
           {
            "automargin": true,
            "type": "pie"
           }
          ],
          "scatter": [
           {
            "fillpattern": {
             "fillmode": "overlay",
             "size": 10,
             "solidity": 0.2
            },
            "type": "scatter"
           }
          ],
          "scatter3d": [
           {
            "line": {
             "colorbar": {
              "outlinewidth": 0,
              "ticks": ""
             }
            },
            "marker": {
             "colorbar": {
              "outlinewidth": 0,
              "ticks": ""
             }
            },
            "type": "scatter3d"
           }
          ],
          "scattercarpet": [
           {
            "marker": {
             "colorbar": {
              "outlinewidth": 0,
              "ticks": ""
             }
            },
            "type": "scattercarpet"
           }
          ],
          "scattergeo": [
           {
            "marker": {
             "colorbar": {
              "outlinewidth": 0,
              "ticks": ""
             }
            },
            "type": "scattergeo"
           }
          ],
          "scattergl": [
           {
            "marker": {
             "colorbar": {
              "outlinewidth": 0,
              "ticks": ""
             }
            },
            "type": "scattergl"
           }
          ],
          "scattermapbox": [
           {
            "marker": {
             "colorbar": {
              "outlinewidth": 0,
              "ticks": ""
             }
            },
            "type": "scattermapbox"
           }
          ],
          "scatterpolar": [
           {
            "marker": {
             "colorbar": {
              "outlinewidth": 0,
              "ticks": ""
             }
            },
            "type": "scatterpolar"
           }
          ],
          "scatterpolargl": [
           {
            "marker": {
             "colorbar": {
              "outlinewidth": 0,
              "ticks": ""
             }
            },
            "type": "scatterpolargl"
           }
          ],
          "scatterternary": [
           {
            "marker": {
             "colorbar": {
              "outlinewidth": 0,
              "ticks": ""
             }
            },
            "type": "scatterternary"
           }
          ],
          "surface": [
           {
            "colorbar": {
             "outlinewidth": 0,
             "ticks": ""
            },
            "colorscale": [
             [
              0,
              "#0d0887"
             ],
             [
              0.1111111111111111,
              "#46039f"
             ],
             [
              0.2222222222222222,
              "#7201a8"
             ],
             [
              0.3333333333333333,
              "#9c179e"
             ],
             [
              0.4444444444444444,
              "#bd3786"
             ],
             [
              0.5555555555555556,
              "#d8576b"
             ],
             [
              0.6666666666666666,
              "#ed7953"
             ],
             [
              0.7777777777777778,
              "#fb9f3a"
             ],
             [
              0.8888888888888888,
              "#fdca26"
             ],
             [
              1,
              "#f0f921"
             ]
            ],
            "type": "surface"
           }
          ],
          "table": [
           {
            "cells": {
             "fill": {
              "color": "#EBF0F8"
             },
             "line": {
              "color": "white"
             }
            },
            "header": {
             "fill": {
              "color": "#C8D4E3"
             },
             "line": {
              "color": "white"
             }
            },
            "type": "table"
           }
          ]
         },
         "layout": {
          "annotationdefaults": {
           "arrowcolor": "#2a3f5f",
           "arrowhead": 0,
           "arrowwidth": 1
          },
          "autotypenumbers": "strict",
          "coloraxis": {
           "colorbar": {
            "outlinewidth": 0,
            "ticks": ""
           }
          },
          "colorscale": {
           "diverging": [
            [
             0,
             "#8e0152"
            ],
            [
             0.1,
             "#c51b7d"
            ],
            [
             0.2,
             "#de77ae"
            ],
            [
             0.3,
             "#f1b6da"
            ],
            [
             0.4,
             "#fde0ef"
            ],
            [
             0.5,
             "#f7f7f7"
            ],
            [
             0.6,
             "#e6f5d0"
            ],
            [
             0.7,
             "#b8e186"
            ],
            [
             0.8,
             "#7fbc41"
            ],
            [
             0.9,
             "#4d9221"
            ],
            [
             1,
             "#276419"
            ]
           ],
           "sequential": [
            [
             0,
             "#0d0887"
            ],
            [
             0.1111111111111111,
             "#46039f"
            ],
            [
             0.2222222222222222,
             "#7201a8"
            ],
            [
             0.3333333333333333,
             "#9c179e"
            ],
            [
             0.4444444444444444,
             "#bd3786"
            ],
            [
             0.5555555555555556,
             "#d8576b"
            ],
            [
             0.6666666666666666,
             "#ed7953"
            ],
            [
             0.7777777777777778,
             "#fb9f3a"
            ],
            [
             0.8888888888888888,
             "#fdca26"
            ],
            [
             1,
             "#f0f921"
            ]
           ],
           "sequentialminus": [
            [
             0,
             "#0d0887"
            ],
            [
             0.1111111111111111,
             "#46039f"
            ],
            [
             0.2222222222222222,
             "#7201a8"
            ],
            [
             0.3333333333333333,
             "#9c179e"
            ],
            [
             0.4444444444444444,
             "#bd3786"
            ],
            [
             0.5555555555555556,
             "#d8576b"
            ],
            [
             0.6666666666666666,
             "#ed7953"
            ],
            [
             0.7777777777777778,
             "#fb9f3a"
            ],
            [
             0.8888888888888888,
             "#fdca26"
            ],
            [
             1,
             "#f0f921"
            ]
           ]
          },
          "colorway": [
           "#636efa",
           "#EF553B",
           "#00cc96",
           "#ab63fa",
           "#FFA15A",
           "#19d3f3",
           "#FF6692",
           "#B6E880",
           "#FF97FF",
           "#FECB52"
          ],
          "font": {
           "color": "#2a3f5f"
          },
          "geo": {
           "bgcolor": "white",
           "lakecolor": "white",
           "landcolor": "#E5ECF6",
           "showlakes": true,
           "showland": true,
           "subunitcolor": "white"
          },
          "hoverlabel": {
           "align": "left"
          },
          "hovermode": "closest",
          "mapbox": {
           "style": "light"
          },
          "paper_bgcolor": "white",
          "plot_bgcolor": "#E5ECF6",
          "polar": {
           "angularaxis": {
            "gridcolor": "white",
            "linecolor": "white",
            "ticks": ""
           },
           "bgcolor": "#E5ECF6",
           "radialaxis": {
            "gridcolor": "white",
            "linecolor": "white",
            "ticks": ""
           }
          },
          "scene": {
           "xaxis": {
            "backgroundcolor": "#E5ECF6",
            "gridcolor": "white",
            "gridwidth": 2,
            "linecolor": "white",
            "showbackground": true,
            "ticks": "",
            "zerolinecolor": "white"
           },
           "yaxis": {
            "backgroundcolor": "#E5ECF6",
            "gridcolor": "white",
            "gridwidth": 2,
            "linecolor": "white",
            "showbackground": true,
            "ticks": "",
            "zerolinecolor": "white"
           },
           "zaxis": {
            "backgroundcolor": "#E5ECF6",
            "gridcolor": "white",
            "gridwidth": 2,
            "linecolor": "white",
            "showbackground": true,
            "ticks": "",
            "zerolinecolor": "white"
           }
          },
          "shapedefaults": {
           "line": {
            "color": "#2a3f5f"
           }
          },
          "ternary": {
           "aaxis": {
            "gridcolor": "white",
            "linecolor": "white",
            "ticks": ""
           },
           "baxis": {
            "gridcolor": "white",
            "linecolor": "white",
            "ticks": ""
           },
           "bgcolor": "#E5ECF6",
           "caxis": {
            "gridcolor": "white",
            "linecolor": "white",
            "ticks": ""
           }
          },
          "title": {
           "x": 0.05
          },
          "xaxis": {
           "automargin": true,
           "gridcolor": "white",
           "linecolor": "white",
           "ticks": "",
           "title": {
            "standoff": 15
           },
           "zerolinecolor": "white",
           "zerolinewidth": 2
          },
          "yaxis": {
           "automargin": true,
           "gridcolor": "white",
           "linecolor": "white",
           "ticks": "",
           "title": {
            "standoff": 15
           },
           "zerolinecolor": "white",
           "zerolinewidth": 2
          }
         }
        },
        "title": {
         "text": "Average Ratings by Class"
        },
        "xaxis": {
         "anchor": "y",
         "domain": [
          0,
          1
         ],
         "title": {
          "text": "Class"
         }
        },
        "yaxis": {
         "anchor": "x",
         "domain": [
          0,
          1
         ],
         "range": [
          0,
          5
         ],
         "title": {
          "text": "avg(Corrected Overall Rating)"
         }
        }
       }
      }
     },
     "metadata": {},
     "output_type": "display_data"
    }
   ],
   "source": [
    "# Calculate the average overall rating for each class\n",
    "average_ratings_by_class = selected_df.groupBy(\"Class\").avg(\"Corrected Overall Rating\")\n",
    "\n",
    "# Convert the DataFrame to Pandas\n",
    "average_ratings_by_class_pd = average_ratings_by_class.toPandas()\n",
    "\n",
    "# Create the bar chart\n",
    "fig = px.bar(average_ratings_by_class_pd, x='Class', y='avg(Corrected Overall Rating)', title='Average Ratings by Class')\n",
    "\n",
    "# Set the maximum scale of the y-axis to 5\n",
    "fig.update_layout(yaxis_range=[0, 5])\n",
    "\n",
    "# Show the bar chart\n",
    "fig.show()"
   ]
  },
  {
   "cell_type": "code",
   "execution_count": 14,
   "metadata": {},
   "outputs": [
    {
     "data": {
      "application/vnd.plotly.v1+json": {
       "config": {
        "plotlyServerURL": "https://plot.ly"
       },
       "data": [
        {
         "alignmentgroup": "True",
         "hovertemplate": "Airline=%{x}<br>avg(Corrected Overall Rating)=%{y}<extra></extra>",
         "legendgroup": "",
         "marker": {
          "color": [
           "blue",
           "red",
           "blue",
           "blue",
           "blue",
           "blue",
           "green",
           "blue",
           "blue",
           "blue"
          ],
          "pattern": {
           "shape": ""
          }
         },
         "name": "",
         "offsetgroup": "",
         "orientation": "v",
         "showlegend": false,
         "textposition": "auto",
         "type": "bar",
         "x": [
          "EVA Air",
          "Turkish Airlines",
          "Qatar Airways",
          "Air France",
          "Japan Airlines",
          "Cathay Pacific Airways",
          "All Nippon Airways",
          "Emirates",
          "Singapore Airlines",
          "Korean Air"
         ],
         "xaxis": "x",
         "y": [
          3.94605263157895,
          2.7823396226415102,
          4.012637913741224,
          3.0117437722419957,
          3.895081967213113,
          3.483561643835615,
          4.214035087719299,
          3.0801627670396807,
          3.687171052631578,
          3.5945205479452036
         ],
         "yaxis": "y"
        }
       ],
       "layout": {
        "barmode": "relative",
        "legend": {
         "tracegroupgap": 0
        },
        "template": {
         "data": {
          "bar": [
           {
            "error_x": {
             "color": "#2a3f5f"
            },
            "error_y": {
             "color": "#2a3f5f"
            },
            "marker": {
             "line": {
              "color": "#E5ECF6",
              "width": 0.5
             },
             "pattern": {
              "fillmode": "overlay",
              "size": 10,
              "solidity": 0.2
             }
            },
            "type": "bar"
           }
          ],
          "barpolar": [
           {
            "marker": {
             "line": {
              "color": "#E5ECF6",
              "width": 0.5
             },
             "pattern": {
              "fillmode": "overlay",
              "size": 10,
              "solidity": 0.2
             }
            },
            "type": "barpolar"
           }
          ],
          "carpet": [
           {
            "aaxis": {
             "endlinecolor": "#2a3f5f",
             "gridcolor": "white",
             "linecolor": "white",
             "minorgridcolor": "white",
             "startlinecolor": "#2a3f5f"
            },
            "baxis": {
             "endlinecolor": "#2a3f5f",
             "gridcolor": "white",
             "linecolor": "white",
             "minorgridcolor": "white",
             "startlinecolor": "#2a3f5f"
            },
            "type": "carpet"
           }
          ],
          "choropleth": [
           {
            "colorbar": {
             "outlinewidth": 0,
             "ticks": ""
            },
            "type": "choropleth"
           }
          ],
          "contour": [
           {
            "colorbar": {
             "outlinewidth": 0,
             "ticks": ""
            },
            "colorscale": [
             [
              0,
              "#0d0887"
             ],
             [
              0.1111111111111111,
              "#46039f"
             ],
             [
              0.2222222222222222,
              "#7201a8"
             ],
             [
              0.3333333333333333,
              "#9c179e"
             ],
             [
              0.4444444444444444,
              "#bd3786"
             ],
             [
              0.5555555555555556,
              "#d8576b"
             ],
             [
              0.6666666666666666,
              "#ed7953"
             ],
             [
              0.7777777777777778,
              "#fb9f3a"
             ],
             [
              0.8888888888888888,
              "#fdca26"
             ],
             [
              1,
              "#f0f921"
             ]
            ],
            "type": "contour"
           }
          ],
          "contourcarpet": [
           {
            "colorbar": {
             "outlinewidth": 0,
             "ticks": ""
            },
            "type": "contourcarpet"
           }
          ],
          "heatmap": [
           {
            "colorbar": {
             "outlinewidth": 0,
             "ticks": ""
            },
            "colorscale": [
             [
              0,
              "#0d0887"
             ],
             [
              0.1111111111111111,
              "#46039f"
             ],
             [
              0.2222222222222222,
              "#7201a8"
             ],
             [
              0.3333333333333333,
              "#9c179e"
             ],
             [
              0.4444444444444444,
              "#bd3786"
             ],
             [
              0.5555555555555556,
              "#d8576b"
             ],
             [
              0.6666666666666666,
              "#ed7953"
             ],
             [
              0.7777777777777778,
              "#fb9f3a"
             ],
             [
              0.8888888888888888,
              "#fdca26"
             ],
             [
              1,
              "#f0f921"
             ]
            ],
            "type": "heatmap"
           }
          ],
          "heatmapgl": [
           {
            "colorbar": {
             "outlinewidth": 0,
             "ticks": ""
            },
            "colorscale": [
             [
              0,
              "#0d0887"
             ],
             [
              0.1111111111111111,
              "#46039f"
             ],
             [
              0.2222222222222222,
              "#7201a8"
             ],
             [
              0.3333333333333333,
              "#9c179e"
             ],
             [
              0.4444444444444444,
              "#bd3786"
             ],
             [
              0.5555555555555556,
              "#d8576b"
             ],
             [
              0.6666666666666666,
              "#ed7953"
             ],
             [
              0.7777777777777778,
              "#fb9f3a"
             ],
             [
              0.8888888888888888,
              "#fdca26"
             ],
             [
              1,
              "#f0f921"
             ]
            ],
            "type": "heatmapgl"
           }
          ],
          "histogram": [
           {
            "marker": {
             "pattern": {
              "fillmode": "overlay",
              "size": 10,
              "solidity": 0.2
             }
            },
            "type": "histogram"
           }
          ],
          "histogram2d": [
           {
            "colorbar": {
             "outlinewidth": 0,
             "ticks": ""
            },
            "colorscale": [
             [
              0,
              "#0d0887"
             ],
             [
              0.1111111111111111,
              "#46039f"
             ],
             [
              0.2222222222222222,
              "#7201a8"
             ],
             [
              0.3333333333333333,
              "#9c179e"
             ],
             [
              0.4444444444444444,
              "#bd3786"
             ],
             [
              0.5555555555555556,
              "#d8576b"
             ],
             [
              0.6666666666666666,
              "#ed7953"
             ],
             [
              0.7777777777777778,
              "#fb9f3a"
             ],
             [
              0.8888888888888888,
              "#fdca26"
             ],
             [
              1,
              "#f0f921"
             ]
            ],
            "type": "histogram2d"
           }
          ],
          "histogram2dcontour": [
           {
            "colorbar": {
             "outlinewidth": 0,
             "ticks": ""
            },
            "colorscale": [
             [
              0,
              "#0d0887"
             ],
             [
              0.1111111111111111,
              "#46039f"
             ],
             [
              0.2222222222222222,
              "#7201a8"
             ],
             [
              0.3333333333333333,
              "#9c179e"
             ],
             [
              0.4444444444444444,
              "#bd3786"
             ],
             [
              0.5555555555555556,
              "#d8576b"
             ],
             [
              0.6666666666666666,
              "#ed7953"
             ],
             [
              0.7777777777777778,
              "#fb9f3a"
             ],
             [
              0.8888888888888888,
              "#fdca26"
             ],
             [
              1,
              "#f0f921"
             ]
            ],
            "type": "histogram2dcontour"
           }
          ],
          "mesh3d": [
           {
            "colorbar": {
             "outlinewidth": 0,
             "ticks": ""
            },
            "type": "mesh3d"
           }
          ],
          "parcoords": [
           {
            "line": {
             "colorbar": {
              "outlinewidth": 0,
              "ticks": ""
             }
            },
            "type": "parcoords"
           }
          ],
          "pie": [
           {
            "automargin": true,
            "type": "pie"
           }
          ],
          "scatter": [
           {
            "fillpattern": {
             "fillmode": "overlay",
             "size": 10,
             "solidity": 0.2
            },
            "type": "scatter"
           }
          ],
          "scatter3d": [
           {
            "line": {
             "colorbar": {
              "outlinewidth": 0,
              "ticks": ""
             }
            },
            "marker": {
             "colorbar": {
              "outlinewidth": 0,
              "ticks": ""
             }
            },
            "type": "scatter3d"
           }
          ],
          "scattercarpet": [
           {
            "marker": {
             "colorbar": {
              "outlinewidth": 0,
              "ticks": ""
             }
            },
            "type": "scattercarpet"
           }
          ],
          "scattergeo": [
           {
            "marker": {
             "colorbar": {
              "outlinewidth": 0,
              "ticks": ""
             }
            },
            "type": "scattergeo"
           }
          ],
          "scattergl": [
           {
            "marker": {
             "colorbar": {
              "outlinewidth": 0,
              "ticks": ""
             }
            },
            "type": "scattergl"
           }
          ],
          "scattermapbox": [
           {
            "marker": {
             "colorbar": {
              "outlinewidth": 0,
              "ticks": ""
             }
            },
            "type": "scattermapbox"
           }
          ],
          "scatterpolar": [
           {
            "marker": {
             "colorbar": {
              "outlinewidth": 0,
              "ticks": ""
             }
            },
            "type": "scatterpolar"
           }
          ],
          "scatterpolargl": [
           {
            "marker": {
             "colorbar": {
              "outlinewidth": 0,
              "ticks": ""
             }
            },
            "type": "scatterpolargl"
           }
          ],
          "scatterternary": [
           {
            "marker": {
             "colorbar": {
              "outlinewidth": 0,
              "ticks": ""
             }
            },
            "type": "scatterternary"
           }
          ],
          "surface": [
           {
            "colorbar": {
             "outlinewidth": 0,
             "ticks": ""
            },
            "colorscale": [
             [
              0,
              "#0d0887"
             ],
             [
              0.1111111111111111,
              "#46039f"
             ],
             [
              0.2222222222222222,
              "#7201a8"
             ],
             [
              0.3333333333333333,
              "#9c179e"
             ],
             [
              0.4444444444444444,
              "#bd3786"
             ],
             [
              0.5555555555555556,
              "#d8576b"
             ],
             [
              0.6666666666666666,
              "#ed7953"
             ],
             [
              0.7777777777777778,
              "#fb9f3a"
             ],
             [
              0.8888888888888888,
              "#fdca26"
             ],
             [
              1,
              "#f0f921"
             ]
            ],
            "type": "surface"
           }
          ],
          "table": [
           {
            "cells": {
             "fill": {
              "color": "#EBF0F8"
             },
             "line": {
              "color": "white"
             }
            },
            "header": {
             "fill": {
              "color": "#C8D4E3"
             },
             "line": {
              "color": "white"
             }
            },
            "type": "table"
           }
          ]
         },
         "layout": {
          "annotationdefaults": {
           "arrowcolor": "#2a3f5f",
           "arrowhead": 0,
           "arrowwidth": 1
          },
          "autotypenumbers": "strict",
          "coloraxis": {
           "colorbar": {
            "outlinewidth": 0,
            "ticks": ""
           }
          },
          "colorscale": {
           "diverging": [
            [
             0,
             "#8e0152"
            ],
            [
             0.1,
             "#c51b7d"
            ],
            [
             0.2,
             "#de77ae"
            ],
            [
             0.3,
             "#f1b6da"
            ],
            [
             0.4,
             "#fde0ef"
            ],
            [
             0.5,
             "#f7f7f7"
            ],
            [
             0.6,
             "#e6f5d0"
            ],
            [
             0.7,
             "#b8e186"
            ],
            [
             0.8,
             "#7fbc41"
            ],
            [
             0.9,
             "#4d9221"
            ],
            [
             1,
             "#276419"
            ]
           ],
           "sequential": [
            [
             0,
             "#0d0887"
            ],
            [
             0.1111111111111111,
             "#46039f"
            ],
            [
             0.2222222222222222,
             "#7201a8"
            ],
            [
             0.3333333333333333,
             "#9c179e"
            ],
            [
             0.4444444444444444,
             "#bd3786"
            ],
            [
             0.5555555555555556,
             "#d8576b"
            ],
            [
             0.6666666666666666,
             "#ed7953"
            ],
            [
             0.7777777777777778,
             "#fb9f3a"
            ],
            [
             0.8888888888888888,
             "#fdca26"
            ],
            [
             1,
             "#f0f921"
            ]
           ],
           "sequentialminus": [
            [
             0,
             "#0d0887"
            ],
            [
             0.1111111111111111,
             "#46039f"
            ],
            [
             0.2222222222222222,
             "#7201a8"
            ],
            [
             0.3333333333333333,
             "#9c179e"
            ],
            [
             0.4444444444444444,
             "#bd3786"
            ],
            [
             0.5555555555555556,
             "#d8576b"
            ],
            [
             0.6666666666666666,
             "#ed7953"
            ],
            [
             0.7777777777777778,
             "#fb9f3a"
            ],
            [
             0.8888888888888888,
             "#fdca26"
            ],
            [
             1,
             "#f0f921"
            ]
           ]
          },
          "colorway": [
           "#636efa",
           "#EF553B",
           "#00cc96",
           "#ab63fa",
           "#FFA15A",
           "#19d3f3",
           "#FF6692",
           "#B6E880",
           "#FF97FF",
           "#FECB52"
          ],
          "font": {
           "color": "#2a3f5f"
          },
          "geo": {
           "bgcolor": "white",
           "lakecolor": "white",
           "landcolor": "#E5ECF6",
           "showlakes": true,
           "showland": true,
           "subunitcolor": "white"
          },
          "hoverlabel": {
           "align": "left"
          },
          "hovermode": "closest",
          "mapbox": {
           "style": "light"
          },
          "paper_bgcolor": "white",
          "plot_bgcolor": "#E5ECF6",
          "polar": {
           "angularaxis": {
            "gridcolor": "white",
            "linecolor": "white",
            "ticks": ""
           },
           "bgcolor": "#E5ECF6",
           "radialaxis": {
            "gridcolor": "white",
            "linecolor": "white",
            "ticks": ""
           }
          },
          "scene": {
           "xaxis": {
            "backgroundcolor": "#E5ECF6",
            "gridcolor": "white",
            "gridwidth": 2,
            "linecolor": "white",
            "showbackground": true,
            "ticks": "",
            "zerolinecolor": "white"
           },
           "yaxis": {
            "backgroundcolor": "#E5ECF6",
            "gridcolor": "white",
            "gridwidth": 2,
            "linecolor": "white",
            "showbackground": true,
            "ticks": "",
            "zerolinecolor": "white"
           },
           "zaxis": {
            "backgroundcolor": "#E5ECF6",
            "gridcolor": "white",
            "gridwidth": 2,
            "linecolor": "white",
            "showbackground": true,
            "ticks": "",
            "zerolinecolor": "white"
           }
          },
          "shapedefaults": {
           "line": {
            "color": "#2a3f5f"
           }
          },
          "ternary": {
           "aaxis": {
            "gridcolor": "white",
            "linecolor": "white",
            "ticks": ""
           },
           "baxis": {
            "gridcolor": "white",
            "linecolor": "white",
            "ticks": ""
           },
           "bgcolor": "#E5ECF6",
           "caxis": {
            "gridcolor": "white",
            "linecolor": "white",
            "ticks": ""
           }
          },
          "title": {
           "x": 0.05
          },
          "xaxis": {
           "automargin": true,
           "gridcolor": "white",
           "linecolor": "white",
           "ticks": "",
           "title": {
            "standoff": 15
           },
           "zerolinecolor": "white",
           "zerolinewidth": 2
          },
          "yaxis": {
           "automargin": true,
           "gridcolor": "white",
           "linecolor": "white",
           "ticks": "",
           "title": {
            "standoff": 15
           },
           "zerolinecolor": "white",
           "zerolinewidth": 2
          }
         }
        },
        "title": {
         "text": "Average Ratings for Each Airline (Economy Class)"
        },
        "xaxis": {
         "anchor": "y",
         "domain": [
          0,
          1
         ],
         "title": {
          "text": "Airline"
         }
        },
        "yaxis": {
         "anchor": "x",
         "domain": [
          0,
          1
         ],
         "range": [
          0,
          5
         ],
         "title": {
          "text": "avg(Corrected Overall Rating)"
         }
        }
       }
      }
     },
     "metadata": {},
     "output_type": "display_data"
    }
   ],
   "source": [
    "# Filter the DataFrame for the economy class\n",
    "economy_df = selected_df.filter(selected_df[\"Class\"] == \"Economy Class\")\n",
    "\n",
    "# Calculate the average overall rating for each airline\n",
    "average_ratings = economy_df.groupBy(\"Airline\").avg(\"Corrected Overall Rating\")\n",
    "\n",
    "# Create a pandas dataframe from the average ratings\n",
    "average_ratings_df = average_ratings.toPandas()\n",
    "\n",
    "# Find the highest and lowest average overall ratings\n",
    "highest_rating = average_ratings_df[\"avg(Corrected Overall Rating)\"].max()\n",
    "lowest_rating = average_ratings_df[\"avg(Corrected Overall Rating)\"].min()\n",
    "\n",
    "# Create the bar chart\n",
    "fig = px.bar(average_ratings_df, x='Airline', y='avg(Corrected Overall Rating)', title='Average Ratings for Each Airline (Economy Class)')\n",
    "\n",
    "# Highlight the highest and lowest ratings\n",
    "fig.update_traces(marker_color=['green' if rating == highest_rating else 'red' if rating == lowest_rating else 'blue' for rating in average_ratings_df[\"avg(Corrected Overall Rating)\"]])\n",
    "\n",
    "# Set the maximum scale of the y-axis to 5\n",
    "fig.update_layout(yaxis_range=[0, 5])\n",
    "\n",
    "fig.show()"
   ]
  },
  {
   "cell_type": "code",
   "execution_count": 15,
   "metadata": {},
   "outputs": [
    {
     "data": {
      "application/vnd.plotly.v1+json": {
       "config": {
        "plotlyServerURL": "https://plot.ly"
       },
       "data": [
        {
         "name": "Seat Comfort",
         "type": "bar",
         "x": [
          "EVA Air",
          "Turkish Airlines",
          "Qatar Airways",
          "Air France",
          "Japan Airlines",
          "Cathay Pacific Airways",
          "All Nippon Airways",
          "Emirates",
          "Singapore Airlines",
          "Korean Air"
         ],
         "y": [
          3.960526315789474,
          2.698867924528302,
          3.9518555667001003,
          2.9412811387900355,
          3.9098360655737703,
          3.6004566210045663,
          4.204678362573099,
          3.163784333672431,
          3.7203947368421053,
          3.7534246575342465
         ]
        },
        {
         "name": "Staff Service",
         "type": "bar",
         "x": [
          "EVA Air",
          "Turkish Airlines",
          "Qatar Airways",
          "Air France",
          "Japan Airlines",
          "Cathay Pacific Airways",
          "All Nippon Airways",
          "Emirates",
          "Singapore Airlines",
          "Korean Air"
         ],
         "y": [
          4.177631578947368,
          2.88,
          4.292878635907723,
          3.275800711743772,
          4.229508196721311,
          3.5547945205479454,
          4.52046783625731,
          2.9440488301119023,
          3.8914473684210527,
          3.7465753424657535
         ]
        },
        {
         "name": "Food & Beverages",
         "type": "bar",
         "x": [
          "EVA Air",
          "Turkish Airlines",
          "Qatar Airways",
          "Air France",
          "Japan Airlines",
          "Cathay Pacific Airways",
          "All Nippon Airways",
          "Emirates",
          "Singapore Airlines",
          "Korean Air"
         ],
         "y": [
          3.9802631578947367,
          3.0120754716981133,
          3.936810431293882,
          3.0943060498220643,
          3.8360655737704916,
          3.2579908675799087,
          4.005847953216374,
          2.9888097660223805,
          3.5526315789473686,
          3.5273972602739727
         ]
        },
        {
         "name": "Inflight Entertainment",
         "type": "bar",
         "x": [
          "EVA Air",
          "Turkish Airlines",
          "Qatar Airways",
          "Air France",
          "Japan Airlines",
          "Cathay Pacific Airways",
          "All Nippon Airways",
          "Emirates",
          "Singapore Airlines",
          "Korean Air"
         ],
         "y": [
          3.848684210526316,
          3.0754716981132075,
          4.116349047141425,
          3.176156583629893,
          3.6311475409836067,
          3.7899543378995433,
          3.982456140350877,
          3.7517802644964395,
          3.866776315789474,
          3.335616438356164
         ]
        },
        {
         "name": "Value For Money",
         "type": "bar",
         "x": [
          "EVA Air",
          "Turkish Airlines",
          "Qatar Airways",
          "Air France",
          "Japan Airlines",
          "Cathay Pacific Airways",
          "All Nippon Airways",
          "Emirates",
          "Singapore Airlines",
          "Korean Air"
         ],
         "y": [
          3.763157894736842,
          2.2452830188679247,
          3.765295887662989,
          2.5711743772241995,
          3.8688524590163933,
          3.2146118721461185,
          4.356725146198831,
          2.5523906408952186,
          3.4046052631578947,
          3.6095890410958904
         ]
        }
       ],
       "layout": {
        "barmode": "group",
        "height": 600,
        "legend": {
         "bgcolor": "rgba(255, 255, 255, 0.5)",
         "bordercolor": "rgba(0, 0, 0, 0.5)",
         "x": 1,
         "y": 0
        },
        "showlegend": true,
        "template": {
         "data": {
          "bar": [
           {
            "error_x": {
             "color": "#2a3f5f"
            },
            "error_y": {
             "color": "#2a3f5f"
            },
            "marker": {
             "line": {
              "color": "#E5ECF6",
              "width": 0.5
             },
             "pattern": {
              "fillmode": "overlay",
              "size": 10,
              "solidity": 0.2
             }
            },
            "type": "bar"
           }
          ],
          "barpolar": [
           {
            "marker": {
             "line": {
              "color": "#E5ECF6",
              "width": 0.5
             },
             "pattern": {
              "fillmode": "overlay",
              "size": 10,
              "solidity": 0.2
             }
            },
            "type": "barpolar"
           }
          ],
          "carpet": [
           {
            "aaxis": {
             "endlinecolor": "#2a3f5f",
             "gridcolor": "white",
             "linecolor": "white",
             "minorgridcolor": "white",
             "startlinecolor": "#2a3f5f"
            },
            "baxis": {
             "endlinecolor": "#2a3f5f",
             "gridcolor": "white",
             "linecolor": "white",
             "minorgridcolor": "white",
             "startlinecolor": "#2a3f5f"
            },
            "type": "carpet"
           }
          ],
          "choropleth": [
           {
            "colorbar": {
             "outlinewidth": 0,
             "ticks": ""
            },
            "type": "choropleth"
           }
          ],
          "contour": [
           {
            "colorbar": {
             "outlinewidth": 0,
             "ticks": ""
            },
            "colorscale": [
             [
              0,
              "#0d0887"
             ],
             [
              0.1111111111111111,
              "#46039f"
             ],
             [
              0.2222222222222222,
              "#7201a8"
             ],
             [
              0.3333333333333333,
              "#9c179e"
             ],
             [
              0.4444444444444444,
              "#bd3786"
             ],
             [
              0.5555555555555556,
              "#d8576b"
             ],
             [
              0.6666666666666666,
              "#ed7953"
             ],
             [
              0.7777777777777778,
              "#fb9f3a"
             ],
             [
              0.8888888888888888,
              "#fdca26"
             ],
             [
              1,
              "#f0f921"
             ]
            ],
            "type": "contour"
           }
          ],
          "contourcarpet": [
           {
            "colorbar": {
             "outlinewidth": 0,
             "ticks": ""
            },
            "type": "contourcarpet"
           }
          ],
          "heatmap": [
           {
            "colorbar": {
             "outlinewidth": 0,
             "ticks": ""
            },
            "colorscale": [
             [
              0,
              "#0d0887"
             ],
             [
              0.1111111111111111,
              "#46039f"
             ],
             [
              0.2222222222222222,
              "#7201a8"
             ],
             [
              0.3333333333333333,
              "#9c179e"
             ],
             [
              0.4444444444444444,
              "#bd3786"
             ],
             [
              0.5555555555555556,
              "#d8576b"
             ],
             [
              0.6666666666666666,
              "#ed7953"
             ],
             [
              0.7777777777777778,
              "#fb9f3a"
             ],
             [
              0.8888888888888888,
              "#fdca26"
             ],
             [
              1,
              "#f0f921"
             ]
            ],
            "type": "heatmap"
           }
          ],
          "heatmapgl": [
           {
            "colorbar": {
             "outlinewidth": 0,
             "ticks": ""
            },
            "colorscale": [
             [
              0,
              "#0d0887"
             ],
             [
              0.1111111111111111,
              "#46039f"
             ],
             [
              0.2222222222222222,
              "#7201a8"
             ],
             [
              0.3333333333333333,
              "#9c179e"
             ],
             [
              0.4444444444444444,
              "#bd3786"
             ],
             [
              0.5555555555555556,
              "#d8576b"
             ],
             [
              0.6666666666666666,
              "#ed7953"
             ],
             [
              0.7777777777777778,
              "#fb9f3a"
             ],
             [
              0.8888888888888888,
              "#fdca26"
             ],
             [
              1,
              "#f0f921"
             ]
            ],
            "type": "heatmapgl"
           }
          ],
          "histogram": [
           {
            "marker": {
             "pattern": {
              "fillmode": "overlay",
              "size": 10,
              "solidity": 0.2
             }
            },
            "type": "histogram"
           }
          ],
          "histogram2d": [
           {
            "colorbar": {
             "outlinewidth": 0,
             "ticks": ""
            },
            "colorscale": [
             [
              0,
              "#0d0887"
             ],
             [
              0.1111111111111111,
              "#46039f"
             ],
             [
              0.2222222222222222,
              "#7201a8"
             ],
             [
              0.3333333333333333,
              "#9c179e"
             ],
             [
              0.4444444444444444,
              "#bd3786"
             ],
             [
              0.5555555555555556,
              "#d8576b"
             ],
             [
              0.6666666666666666,
              "#ed7953"
             ],
             [
              0.7777777777777778,
              "#fb9f3a"
             ],
             [
              0.8888888888888888,
              "#fdca26"
             ],
             [
              1,
              "#f0f921"
             ]
            ],
            "type": "histogram2d"
           }
          ],
          "histogram2dcontour": [
           {
            "colorbar": {
             "outlinewidth": 0,
             "ticks": ""
            },
            "colorscale": [
             [
              0,
              "#0d0887"
             ],
             [
              0.1111111111111111,
              "#46039f"
             ],
             [
              0.2222222222222222,
              "#7201a8"
             ],
             [
              0.3333333333333333,
              "#9c179e"
             ],
             [
              0.4444444444444444,
              "#bd3786"
             ],
             [
              0.5555555555555556,
              "#d8576b"
             ],
             [
              0.6666666666666666,
              "#ed7953"
             ],
             [
              0.7777777777777778,
              "#fb9f3a"
             ],
             [
              0.8888888888888888,
              "#fdca26"
             ],
             [
              1,
              "#f0f921"
             ]
            ],
            "type": "histogram2dcontour"
           }
          ],
          "mesh3d": [
           {
            "colorbar": {
             "outlinewidth": 0,
             "ticks": ""
            },
            "type": "mesh3d"
           }
          ],
          "parcoords": [
           {
            "line": {
             "colorbar": {
              "outlinewidth": 0,
              "ticks": ""
             }
            },
            "type": "parcoords"
           }
          ],
          "pie": [
           {
            "automargin": true,
            "type": "pie"
           }
          ],
          "scatter": [
           {
            "fillpattern": {
             "fillmode": "overlay",
             "size": 10,
             "solidity": 0.2
            },
            "type": "scatter"
           }
          ],
          "scatter3d": [
           {
            "line": {
             "colorbar": {
              "outlinewidth": 0,
              "ticks": ""
             }
            },
            "marker": {
             "colorbar": {
              "outlinewidth": 0,
              "ticks": ""
             }
            },
            "type": "scatter3d"
           }
          ],
          "scattercarpet": [
           {
            "marker": {
             "colorbar": {
              "outlinewidth": 0,
              "ticks": ""
             }
            },
            "type": "scattercarpet"
           }
          ],
          "scattergeo": [
           {
            "marker": {
             "colorbar": {
              "outlinewidth": 0,
              "ticks": ""
             }
            },
            "type": "scattergeo"
           }
          ],
          "scattergl": [
           {
            "marker": {
             "colorbar": {
              "outlinewidth": 0,
              "ticks": ""
             }
            },
            "type": "scattergl"
           }
          ],
          "scattermapbox": [
           {
            "marker": {
             "colorbar": {
              "outlinewidth": 0,
              "ticks": ""
             }
            },
            "type": "scattermapbox"
           }
          ],
          "scatterpolar": [
           {
            "marker": {
             "colorbar": {
              "outlinewidth": 0,
              "ticks": ""
             }
            },
            "type": "scatterpolar"
           }
          ],
          "scatterpolargl": [
           {
            "marker": {
             "colorbar": {
              "outlinewidth": 0,
              "ticks": ""
             }
            },
            "type": "scatterpolargl"
           }
          ],
          "scatterternary": [
           {
            "marker": {
             "colorbar": {
              "outlinewidth": 0,
              "ticks": ""
             }
            },
            "type": "scatterternary"
           }
          ],
          "surface": [
           {
            "colorbar": {
             "outlinewidth": 0,
             "ticks": ""
            },
            "colorscale": [
             [
              0,
              "#0d0887"
             ],
             [
              0.1111111111111111,
              "#46039f"
             ],
             [
              0.2222222222222222,
              "#7201a8"
             ],
             [
              0.3333333333333333,
              "#9c179e"
             ],
             [
              0.4444444444444444,
              "#bd3786"
             ],
             [
              0.5555555555555556,
              "#d8576b"
             ],
             [
              0.6666666666666666,
              "#ed7953"
             ],
             [
              0.7777777777777778,
              "#fb9f3a"
             ],
             [
              0.8888888888888888,
              "#fdca26"
             ],
             [
              1,
              "#f0f921"
             ]
            ],
            "type": "surface"
           }
          ],
          "table": [
           {
            "cells": {
             "fill": {
              "color": "#EBF0F8"
             },
             "line": {
              "color": "white"
             }
            },
            "header": {
             "fill": {
              "color": "#C8D4E3"
             },
             "line": {
              "color": "white"
             }
            },
            "type": "table"
           }
          ]
         },
         "layout": {
          "annotationdefaults": {
           "arrowcolor": "#2a3f5f",
           "arrowhead": 0,
           "arrowwidth": 1
          },
          "autotypenumbers": "strict",
          "coloraxis": {
           "colorbar": {
            "outlinewidth": 0,
            "ticks": ""
           }
          },
          "colorscale": {
           "diverging": [
            [
             0,
             "#8e0152"
            ],
            [
             0.1,
             "#c51b7d"
            ],
            [
             0.2,
             "#de77ae"
            ],
            [
             0.3,
             "#f1b6da"
            ],
            [
             0.4,
             "#fde0ef"
            ],
            [
             0.5,
             "#f7f7f7"
            ],
            [
             0.6,
             "#e6f5d0"
            ],
            [
             0.7,
             "#b8e186"
            ],
            [
             0.8,
             "#7fbc41"
            ],
            [
             0.9,
             "#4d9221"
            ],
            [
             1,
             "#276419"
            ]
           ],
           "sequential": [
            [
             0,
             "#0d0887"
            ],
            [
             0.1111111111111111,
             "#46039f"
            ],
            [
             0.2222222222222222,
             "#7201a8"
            ],
            [
             0.3333333333333333,
             "#9c179e"
            ],
            [
             0.4444444444444444,
             "#bd3786"
            ],
            [
             0.5555555555555556,
             "#d8576b"
            ],
            [
             0.6666666666666666,
             "#ed7953"
            ],
            [
             0.7777777777777778,
             "#fb9f3a"
            ],
            [
             0.8888888888888888,
             "#fdca26"
            ],
            [
             1,
             "#f0f921"
            ]
           ],
           "sequentialminus": [
            [
             0,
             "#0d0887"
            ],
            [
             0.1111111111111111,
             "#46039f"
            ],
            [
             0.2222222222222222,
             "#7201a8"
            ],
            [
             0.3333333333333333,
             "#9c179e"
            ],
            [
             0.4444444444444444,
             "#bd3786"
            ],
            [
             0.5555555555555556,
             "#d8576b"
            ],
            [
             0.6666666666666666,
             "#ed7953"
            ],
            [
             0.7777777777777778,
             "#fb9f3a"
            ],
            [
             0.8888888888888888,
             "#fdca26"
            ],
            [
             1,
             "#f0f921"
            ]
           ]
          },
          "colorway": [
           "#636efa",
           "#EF553B",
           "#00cc96",
           "#ab63fa",
           "#FFA15A",
           "#19d3f3",
           "#FF6692",
           "#B6E880",
           "#FF97FF",
           "#FECB52"
          ],
          "font": {
           "color": "#2a3f5f"
          },
          "geo": {
           "bgcolor": "white",
           "lakecolor": "white",
           "landcolor": "#E5ECF6",
           "showlakes": true,
           "showland": true,
           "subunitcolor": "white"
          },
          "hoverlabel": {
           "align": "left"
          },
          "hovermode": "closest",
          "mapbox": {
           "style": "light"
          },
          "paper_bgcolor": "white",
          "plot_bgcolor": "#E5ECF6",
          "polar": {
           "angularaxis": {
            "gridcolor": "white",
            "linecolor": "white",
            "ticks": ""
           },
           "bgcolor": "#E5ECF6",
           "radialaxis": {
            "gridcolor": "white",
            "linecolor": "white",
            "ticks": ""
           }
          },
          "scene": {
           "xaxis": {
            "backgroundcolor": "#E5ECF6",
            "gridcolor": "white",
            "gridwidth": 2,
            "linecolor": "white",
            "showbackground": true,
            "ticks": "",
            "zerolinecolor": "white"
           },
           "yaxis": {
            "backgroundcolor": "#E5ECF6",
            "gridcolor": "white",
            "gridwidth": 2,
            "linecolor": "white",
            "showbackground": true,
            "ticks": "",
            "zerolinecolor": "white"
           },
           "zaxis": {
            "backgroundcolor": "#E5ECF6",
            "gridcolor": "white",
            "gridwidth": 2,
            "linecolor": "white",
            "showbackground": true,
            "ticks": "",
            "zerolinecolor": "white"
           }
          },
          "shapedefaults": {
           "line": {
            "color": "#2a3f5f"
           }
          },
          "ternary": {
           "aaxis": {
            "gridcolor": "white",
            "linecolor": "white",
            "ticks": ""
           },
           "baxis": {
            "gridcolor": "white",
            "linecolor": "white",
            "ticks": ""
           },
           "bgcolor": "#E5ECF6",
           "caxis": {
            "gridcolor": "white",
            "linecolor": "white",
            "ticks": ""
           }
          },
          "title": {
           "x": 0.05
          },
          "xaxis": {
           "automargin": true,
           "gridcolor": "white",
           "linecolor": "white",
           "ticks": "",
           "title": {
            "standoff": 15
           },
           "zerolinecolor": "white",
           "zerolinewidth": 2
          },
          "yaxis": {
           "automargin": true,
           "gridcolor": "white",
           "linecolor": "white",
           "ticks": "",
           "title": {
            "standoff": 15
           },
           "zerolinecolor": "white",
           "zerolinewidth": 2
          }
         }
        },
        "title": {
         "text": "Average Ratings by Category for Each Airline (Economy Class)"
        },
        "width": 1000,
        "xaxis": {
         "title": {
          "text": "Airline"
         }
        },
        "yaxis": {
         "range": [
          0,
          5
         ],
         "title": {
          "text": "Average Rating"
         }
        }
       }
      }
     },
     "metadata": {},
     "output_type": "display_data"
    }
   ],
   "source": [
    "# Group by 'Airline' and calculate the mean of each category\n",
    "average_ratings = economy_df.groupBy(\"Airline\").agg(\n",
    "    F.mean(\"Seat Comfort\").alias(\"Seat Comfort\"),\n",
    "    F.mean(\"Staff Service\").alias(\"Staff Service\"),\n",
    "    F.mean(\"Food & Beverages\").alias(\"Food & Beverages\"),\n",
    "    F.mean(\"Inflight Entertainment\").alias(\"Inflight Entertainment\"),\n",
    "    F.mean(\"Value For Money\").alias(\"Value For Money\")\n",
    ")\n",
    "\n",
    "# Convert the DataFrame to Pandas\n",
    "average_ratings_pd = average_ratings.toPandas()\n",
    "\n",
    "# Create the bar chart\n",
    "fig = go.Figure()\n",
    "\n",
    "# Iterate over each category and add a bar trace for each airline\n",
    "for category in average_ratings_pd.columns[1:]:\n",
    "    fig.add_trace(go.Bar(x=average_ratings_pd[\"Airline\"], y=average_ratings_pd[category], name=category))\n",
    "\n",
    "# Update the layout of the bar chart\n",
    "fig.update_layout(title=\"Average Ratings by Category for Each Airline (Economy Class)\",\n",
    "                  xaxis_title=\"Airline\",\n",
    "                  yaxis_title=\"Average Rating\",\n",
    "                  yaxis_range=[0, 5],\n",
    "                  barmode=\"group\",\n",
    "                  showlegend=True,\n",
    "                  legend=dict(x=1, y=0, bgcolor='rgba(255, 255, 255, 0.5)', bordercolor='rgba(0, 0, 0, 0.5)'),\n",
    "                  height=600,\n",
    "                  width=1000)\n",
    "\n",
    "# Show the bar chart\n",
    "fig.show()"
   ]
  },
  {
   "cell_type": "markdown",
   "metadata": {},
   "source": [
    "-----------------------------------------------------------------------------------------\n",
    "#### <p style = \"text-align: center; font-weight: bold;\">Sentiment Analysis</p>\n",
    "-----------------------------------------------------------------------------------------"
   ]
  },
  {
   "cell_type": "code",
   "execution_count": 16,
   "metadata": {},
   "outputs": [],
   "source": [
    "from transformers import AutoTokenizer, AutoModelForSequenceClassification\n",
    "from scipy.special import softmax\n",
    "\n",
    "MODEL = f\"cardiffnlp/twitter-roberta-base-sentiment\" # sentiment analysis model\n",
    "tokenizer = AutoTokenizer.from_pretrained(MODEL) # load tokenizer\n",
    "model = AutoModelForSequenceClassification.from_pretrained(MODEL) # load model"
   ]
  },
  {
   "cell_type": "code",
   "execution_count": 17,
   "metadata": {},
   "outputs": [],
   "source": [
    "# Function to calculate the sentiment scores\n",
    "def polatrity_scores(example):\n",
    "    encoded_input = tokenizer(example, return_tensors='pt') # tokenize the input\n",
    "    output = model(**encoded_input) # pass the input to the model\n",
    "    scores = output[0][0].detach().numpy() # get the scores\n",
    "    scores = softmax(scores) # apply softmax to convert the scores to probabilities\n",
    "    scores_dict = {'negative': scores[0], 'neutral': scores[1], 'positive': scores[2]} # create a dictionary of the scores\n",
    "    return scores_dict # return the scores"
   ]
  },
  {
   "cell_type": "code",
   "execution_count": 18,
   "metadata": {},
   "outputs": [
    {
     "name": "stderr",
     "output_type": "stream",
     "text": [
      "100%|██████████| 8100/8100 [05:34<00:00, 24.20it/s]\n"
     ]
    }
   ],
   "source": [
    "res = {}\n",
    "# Iterate over each row in the DataFrame\n",
    "for i, row in tqdm(selected_df.toPandas().iterrows(), total=selected_df.count()):\n",
    "    text = row['Review Content'] # get the review content\n",
    "    myid = row['Review ID'] # get the review ID\n",
    "    result = polatrity_scores(text) # calculate the sentiment scores\n",
    "    res[myid] = result # store the scores in a dictionary"
   ]
  },
  {
   "cell_type": "code",
   "execution_count": 19,
   "metadata": {},
   "outputs": [],
   "source": [
    "import pandas as pd\n",
    "# Create a DataFrame from the sentiment scores\n",
    "polarity_df = pd.DataFrame(res).T\n",
    "polarity_df = polarity_df.reset_index().rename(columns={'index': 'Review ID'})\n",
    "polarity_df = polarity_df.merge(selected_df.toPandas(), how='left')"
   ]
  },
  {
   "cell_type": "code",
   "execution_count": 20,
   "metadata": {},
   "outputs": [
    {
     "data": {
      "text/html": [
       "<div>\n",
       "<style scoped>\n",
       "    .dataframe tbody tr th:only-of-type {\n",
       "        vertical-align: middle;\n",
       "    }\n",
       "\n",
       "    .dataframe tbody tr th {\n",
       "        vertical-align: top;\n",
       "    }\n",
       "\n",
       "    .dataframe thead th {\n",
       "        text-align: right;\n",
       "    }\n",
       "</style>\n",
       "<table border=\"1\" class=\"dataframe\">\n",
       "  <thead>\n",
       "    <tr style=\"text-align: right;\">\n",
       "      <th></th>\n",
       "      <th>Review ID</th>\n",
       "      <th>negative</th>\n",
       "      <th>neutral</th>\n",
       "      <th>positive</th>\n",
       "      <th>Review Title</th>\n",
       "      <th>Reviewer</th>\n",
       "      <th>Review Date</th>\n",
       "      <th>Airline</th>\n",
       "      <th>Review Content</th>\n",
       "      <th>Flight Date</th>\n",
       "      <th>Class</th>\n",
       "      <th>Seat Comfort</th>\n",
       "      <th>Staff Service</th>\n",
       "      <th>Food &amp; Beverages</th>\n",
       "      <th>Inflight Entertainment</th>\n",
       "      <th>Value For Money</th>\n",
       "      <th>Overall Rating</th>\n",
       "      <th>Recommended</th>\n",
       "      <th>Corrected Overall Rating</th>\n",
       "    </tr>\n",
       "  </thead>\n",
       "  <tbody>\n",
       "    <tr>\n",
       "      <th>0</th>\n",
       "      <td>0</td>\n",
       "      <td>0.004829</td>\n",
       "      <td>0.033120</td>\n",
       "      <td>0.962051</td>\n",
       "      <td>Flight was amazing</td>\n",
       "      <td>Alison Soetantyo</td>\n",
       "      <td>2024-03-01</td>\n",
       "      <td>Singapore Airlines</td>\n",
       "      <td>Flight was amazing</td>\n",
       "      <td>2023-12-01</td>\n",
       "      <td>Business Class</td>\n",
       "      <td>4</td>\n",
       "      <td>4</td>\n",
       "      <td>4</td>\n",
       "      <td>4</td>\n",
       "      <td>4</td>\n",
       "      <td>4.5</td>\n",
       "      <td>True</td>\n",
       "      <td>4.0</td>\n",
       "    </tr>\n",
       "    <tr>\n",
       "      <th>1</th>\n",
       "      <td>1</td>\n",
       "      <td>0.937025</td>\n",
       "      <td>0.055582</td>\n",
       "      <td>0.007393</td>\n",
       "      <td>seats on this aircraft are dreadful</td>\n",
       "      <td>Robert Watson</td>\n",
       "      <td>2024-02-21</td>\n",
       "      <td>Singapore Airlines</td>\n",
       "      <td>seats on this aircraft are dreadful</td>\n",
       "      <td>2024-02-01</td>\n",
       "      <td>Economy Class</td>\n",
       "      <td>5</td>\n",
       "      <td>3</td>\n",
       "      <td>4</td>\n",
       "      <td>4</td>\n",
       "      <td>1</td>\n",
       "      <td>1.5</td>\n",
       "      <td>False</td>\n",
       "      <td>3.4</td>\n",
       "    </tr>\n",
       "    <tr>\n",
       "      <th>2</th>\n",
       "      <td>2</td>\n",
       "      <td>0.003312</td>\n",
       "      <td>0.043574</td>\n",
       "      <td>0.953113</td>\n",
       "      <td>Food was plentiful and tasty</td>\n",
       "      <td>S Han</td>\n",
       "      <td>2024-02-20</td>\n",
       "      <td>Singapore Airlines</td>\n",
       "      <td>Food was plentiful and tasty</td>\n",
       "      <td>2024-02-01</td>\n",
       "      <td>Economy Class</td>\n",
       "      <td>1</td>\n",
       "      <td>5</td>\n",
       "      <td>2</td>\n",
       "      <td>1</td>\n",
       "      <td>5</td>\n",
       "      <td>5.0</td>\n",
       "      <td>True</td>\n",
       "      <td>2.8</td>\n",
       "    </tr>\n",
       "    <tr>\n",
       "      <th>3</th>\n",
       "      <td>3</td>\n",
       "      <td>0.025182</td>\n",
       "      <td>0.876166</td>\n",
       "      <td>0.098652</td>\n",
       "      <td>how much food was available</td>\n",
       "      <td>D Laynes</td>\n",
       "      <td>2024-02-19</td>\n",
       "      <td>Singapore Airlines</td>\n",
       "      <td>how much food was available</td>\n",
       "      <td>2024-02-01</td>\n",
       "      <td>Economy Class</td>\n",
       "      <td>5</td>\n",
       "      <td>5</td>\n",
       "      <td>5</td>\n",
       "      <td>5</td>\n",
       "      <td>5</td>\n",
       "      <td>5.0</td>\n",
       "      <td>True</td>\n",
       "      <td>5.0</td>\n",
       "    </tr>\n",
       "    <tr>\n",
       "      <th>4</th>\n",
       "      <td>4</td>\n",
       "      <td>0.007100</td>\n",
       "      <td>0.066542</td>\n",
       "      <td>0.926358</td>\n",
       "      <td>service was consistently good</td>\n",
       "      <td>A Othman</td>\n",
       "      <td>2024-02-19</td>\n",
       "      <td>Singapore Airlines</td>\n",
       "      <td>service was consistently good</td>\n",
       "      <td>2024-02-01</td>\n",
       "      <td>Economy Class</td>\n",
       "      <td>5</td>\n",
       "      <td>5</td>\n",
       "      <td>5</td>\n",
       "      <td>5</td>\n",
       "      <td>5</td>\n",
       "      <td>5.0</td>\n",
       "      <td>True</td>\n",
       "      <td>5.0</td>\n",
       "    </tr>\n",
       "  </tbody>\n",
       "</table>\n",
       "</div>"
      ],
      "text/plain": [
       "   Review ID  negative   neutral  positive  \\\n",
       "0          0  0.004829  0.033120  0.962051   \n",
       "1          1  0.937025  0.055582  0.007393   \n",
       "2          2  0.003312  0.043574  0.953113   \n",
       "3          3  0.025182  0.876166  0.098652   \n",
       "4          4  0.007100  0.066542  0.926358   \n",
       "\n",
       "                           Review Title          Reviewer Review Date  \\\n",
       "0                    Flight was amazing  Alison Soetantyo  2024-03-01   \n",
       "1  seats on this aircraft are dreadful      Robert Watson  2024-02-21   \n",
       "2          Food was plentiful and tasty             S Han  2024-02-20   \n",
       "3           how much food was available          D Laynes  2024-02-19   \n",
       "4         service was consistently good         A Othman   2024-02-19   \n",
       "\n",
       "              Airline                        Review Content Flight Date  \\\n",
       "0  Singapore Airlines                    Flight was amazing  2023-12-01   \n",
       "1  Singapore Airlines  seats on this aircraft are dreadful   2024-02-01   \n",
       "2  Singapore Airlines          Food was plentiful and tasty  2024-02-01   \n",
       "3  Singapore Airlines           how much food was available  2024-02-01   \n",
       "4  Singapore Airlines         service was consistently good  2024-02-01   \n",
       "\n",
       "            Class  Seat Comfort  Staff Service  Food & Beverages  \\\n",
       "0  Business Class             4              4                 4   \n",
       "1   Economy Class             5              3                 4   \n",
       "2   Economy Class             1              5                 2   \n",
       "3   Economy Class             5              5                 5   \n",
       "4   Economy Class             5              5                 5   \n",
       "\n",
       "   Inflight Entertainment  Value For Money  Overall Rating  Recommended  \\\n",
       "0                       4                4             4.5         True   \n",
       "1                       4                1             1.5        False   \n",
       "2                       1                5             5.0         True   \n",
       "3                       5                5             5.0         True   \n",
       "4                       5                5             5.0         True   \n",
       "\n",
       "   Corrected Overall Rating  \n",
       "0                       4.0  \n",
       "1                       3.4  \n",
       "2                       2.8  \n",
       "3                       5.0  \n",
       "4                       5.0  "
      ]
     },
     "execution_count": 20,
     "metadata": {},
     "output_type": "execute_result"
    }
   ],
   "source": [
    "polarity_df.head()"
   ]
  },
  {
   "cell_type": "code",
   "execution_count": 50,
   "metadata": {},
   "outputs": [
    {
     "data": {
      "application/vnd.plotly.v1+json": {
       "config": {
        "plotlyServerURL": "https://plot.ly"
       },
       "data": [],
       "layout": {
        "images": [
         {
          "layer": "below",
          "opacity": 1,
          "sizex": 1,
          "sizey": 1,
          "sizing": "stretch",
          "source": "data:image/png;base64,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",
          "x": 0,
          "xref": "paper",
          "y": 0.9,
          "yref": "paper"
         }
        ],
        "plot_bgcolor": "white",
        "template": {
         "data": {
          "bar": [
           {
            "error_x": {
             "color": "#2a3f5f"
            },
            "error_y": {
             "color": "#2a3f5f"
            },
            "marker": {
             "line": {
              "color": "#E5ECF6",
              "width": 0.5
             },
             "pattern": {
              "fillmode": "overlay",
              "size": 10,
              "solidity": 0.2
             }
            },
            "type": "bar"
           }
          ],
          "barpolar": [
           {
            "marker": {
             "line": {
              "color": "#E5ECF6",
              "width": 0.5
             },
             "pattern": {
              "fillmode": "overlay",
              "size": 10,
              "solidity": 0.2
             }
            },
            "type": "barpolar"
           }
          ],
          "carpet": [
           {
            "aaxis": {
             "endlinecolor": "#2a3f5f",
             "gridcolor": "white",
             "linecolor": "white",
             "minorgridcolor": "white",
             "startlinecolor": "#2a3f5f"
            },
            "baxis": {
             "endlinecolor": "#2a3f5f",
             "gridcolor": "white",
             "linecolor": "white",
             "minorgridcolor": "white",
             "startlinecolor": "#2a3f5f"
            },
            "type": "carpet"
           }
          ],
          "choropleth": [
           {
            "colorbar": {
             "outlinewidth": 0,
             "ticks": ""
            },
            "type": "choropleth"
           }
          ],
          "contour": [
           {
            "colorbar": {
             "outlinewidth": 0,
             "ticks": ""
            },
            "colorscale": [
             [
              0,
              "#0d0887"
             ],
             [
              0.1111111111111111,
              "#46039f"
             ],
             [
              0.2222222222222222,
              "#7201a8"
             ],
             [
              0.3333333333333333,
              "#9c179e"
             ],
             [
              0.4444444444444444,
              "#bd3786"
             ],
             [
              0.5555555555555556,
              "#d8576b"
             ],
             [
              0.6666666666666666,
              "#ed7953"
             ],
             [
              0.7777777777777778,
              "#fb9f3a"
             ],
             [
              0.8888888888888888,
              "#fdca26"
             ],
             [
              1,
              "#f0f921"
             ]
            ],
            "type": "contour"
           }
          ],
          "contourcarpet": [
           {
            "colorbar": {
             "outlinewidth": 0,
             "ticks": ""
            },
            "type": "contourcarpet"
           }
          ],
          "heatmap": [
           {
            "colorbar": {
             "outlinewidth": 0,
             "ticks": ""
            },
            "colorscale": [
             [
              0,
              "#0d0887"
             ],
             [
              0.1111111111111111,
              "#46039f"
             ],
             [
              0.2222222222222222,
              "#7201a8"
             ],
             [
              0.3333333333333333,
              "#9c179e"
             ],
             [
              0.4444444444444444,
              "#bd3786"
             ],
             [
              0.5555555555555556,
              "#d8576b"
             ],
             [
              0.6666666666666666,
              "#ed7953"
             ],
             [
              0.7777777777777778,
              "#fb9f3a"
             ],
             [
              0.8888888888888888,
              "#fdca26"
             ],
             [
              1,
              "#f0f921"
             ]
            ],
            "type": "heatmap"
           }
          ],
          "heatmapgl": [
           {
            "colorbar": {
             "outlinewidth": 0,
             "ticks": ""
            },
            "colorscale": [
             [
              0,
              "#0d0887"
             ],
             [
              0.1111111111111111,
              "#46039f"
             ],
             [
              0.2222222222222222,
              "#7201a8"
             ],
             [
              0.3333333333333333,
              "#9c179e"
             ],
             [
              0.4444444444444444,
              "#bd3786"
             ],
             [
              0.5555555555555556,
              "#d8576b"
             ],
             [
              0.6666666666666666,
              "#ed7953"
             ],
             [
              0.7777777777777778,
              "#fb9f3a"
             ],
             [
              0.8888888888888888,
              "#fdca26"
             ],
             [
              1,
              "#f0f921"
             ]
            ],
            "type": "heatmapgl"
           }
          ],
          "histogram": [
           {
            "marker": {
             "pattern": {
              "fillmode": "overlay",
              "size": 10,
              "solidity": 0.2
             }
            },
            "type": "histogram"
           }
          ],
          "histogram2d": [
           {
            "colorbar": {
             "outlinewidth": 0,
             "ticks": ""
            },
            "colorscale": [
             [
              0,
              "#0d0887"
             ],
             [
              0.1111111111111111,
              "#46039f"
             ],
             [
              0.2222222222222222,
              "#7201a8"
             ],
             [
              0.3333333333333333,
              "#9c179e"
             ],
             [
              0.4444444444444444,
              "#bd3786"
             ],
             [
              0.5555555555555556,
              "#d8576b"
             ],
             [
              0.6666666666666666,
              "#ed7953"
             ],
             [
              0.7777777777777778,
              "#fb9f3a"
             ],
             [
              0.8888888888888888,
              "#fdca26"
             ],
             [
              1,
              "#f0f921"
             ]
            ],
            "type": "histogram2d"
           }
          ],
          "histogram2dcontour": [
           {
            "colorbar": {
             "outlinewidth": 0,
             "ticks": ""
            },
            "colorscale": [
             [
              0,
              "#0d0887"
             ],
             [
              0.1111111111111111,
              "#46039f"
             ],
             [
              0.2222222222222222,
              "#7201a8"
             ],
             [
              0.3333333333333333,
              "#9c179e"
             ],
             [
              0.4444444444444444,
              "#bd3786"
             ],
             [
              0.5555555555555556,
              "#d8576b"
             ],
             [
              0.6666666666666666,
              "#ed7953"
             ],
             [
              0.7777777777777778,
              "#fb9f3a"
             ],
             [
              0.8888888888888888,
              "#fdca26"
             ],
             [
              1,
              "#f0f921"
             ]
            ],
            "type": "histogram2dcontour"
           }
          ],
          "mesh3d": [
           {
            "colorbar": {
             "outlinewidth": 0,
             "ticks": ""
            },
            "type": "mesh3d"
           }
          ],
          "parcoords": [
           {
            "line": {
             "colorbar": {
              "outlinewidth": 0,
              "ticks": ""
             }
            },
            "type": "parcoords"
           }
          ],
          "pie": [
           {
            "automargin": true,
            "type": "pie"
           }
          ],
          "scatter": [
           {
            "fillpattern": {
             "fillmode": "overlay",
             "size": 10,
             "solidity": 0.2
            },
            "type": "scatter"
           }
          ],
          "scatter3d": [
           {
            "line": {
             "colorbar": {
              "outlinewidth": 0,
              "ticks": ""
             }
            },
            "marker": {
             "colorbar": {
              "outlinewidth": 0,
              "ticks": ""
             }
            },
            "type": "scatter3d"
           }
          ],
          "scattercarpet": [
           {
            "marker": {
             "colorbar": {
              "outlinewidth": 0,
              "ticks": ""
             }
            },
            "type": "scattercarpet"
           }
          ],
          "scattergeo": [
           {
            "marker": {
             "colorbar": {
              "outlinewidth": 0,
              "ticks": ""
             }
            },
            "type": "scattergeo"
           }
          ],
          "scattergl": [
           {
            "marker": {
             "colorbar": {
              "outlinewidth": 0,
              "ticks": ""
             }
            },
            "type": "scattergl"
           }
          ],
          "scattermapbox": [
           {
            "marker": {
             "colorbar": {
              "outlinewidth": 0,
              "ticks": ""
             }
            },
            "type": "scattermapbox"
           }
          ],
          "scatterpolar": [
           {
            "marker": {
             "colorbar": {
              "outlinewidth": 0,
              "ticks": ""
             }
            },
            "type": "scatterpolar"
           }
          ],
          "scatterpolargl": [
           {
            "marker": {
             "colorbar": {
              "outlinewidth": 0,
              "ticks": ""
             }
            },
            "type": "scatterpolargl"
           }
          ],
          "scatterternary": [
           {
            "marker": {
             "colorbar": {
              "outlinewidth": 0,
              "ticks": ""
             }
            },
            "type": "scatterternary"
           }
          ],
          "surface": [
           {
            "colorbar": {
             "outlinewidth": 0,
             "ticks": ""
            },
            "colorscale": [
             [
              0,
              "#0d0887"
             ],
             [
              0.1111111111111111,
              "#46039f"
             ],
             [
              0.2222222222222222,
              "#7201a8"
             ],
             [
              0.3333333333333333,
              "#9c179e"
             ],
             [
              0.4444444444444444,
              "#bd3786"
             ],
             [
              0.5555555555555556,
              "#d8576b"
             ],
             [
              0.6666666666666666,
              "#ed7953"
             ],
             [
              0.7777777777777778,
              "#fb9f3a"
             ],
             [
              0.8888888888888888,
              "#fdca26"
             ],
             [
              1,
              "#f0f921"
             ]
            ],
            "type": "surface"
           }
          ],
          "table": [
           {
            "cells": {
             "fill": {
              "color": "#EBF0F8"
             },
             "line": {
              "color": "white"
             }
            },
            "header": {
             "fill": {
              "color": "#C8D4E3"
             },
             "line": {
              "color": "white"
             }
            },
            "type": "table"
           }
          ]
         },
         "layout": {
          "annotationdefaults": {
           "arrowcolor": "#2a3f5f",
           "arrowhead": 0,
           "arrowwidth": 1
          },
          "autotypenumbers": "strict",
          "coloraxis": {
           "colorbar": {
            "outlinewidth": 0,
            "ticks": ""
           }
          },
          "colorscale": {
           "diverging": [
            [
             0,
             "#8e0152"
            ],
            [
             0.1,
             "#c51b7d"
            ],
            [
             0.2,
             "#de77ae"
            ],
            [
             0.3,
             "#f1b6da"
            ],
            [
             0.4,
             "#fde0ef"
            ],
            [
             0.5,
             "#f7f7f7"
            ],
            [
             0.6,
             "#e6f5d0"
            ],
            [
             0.7,
             "#b8e186"
            ],
            [
             0.8,
             "#7fbc41"
            ],
            [
             0.9,
             "#4d9221"
            ],
            [
             1,
             "#276419"
            ]
           ],
           "sequential": [
            [
             0,
             "#0d0887"
            ],
            [
             0.1111111111111111,
             "#46039f"
            ],
            [
             0.2222222222222222,
             "#7201a8"
            ],
            [
             0.3333333333333333,
             "#9c179e"
            ],
            [
             0.4444444444444444,
             "#bd3786"
            ],
            [
             0.5555555555555556,
             "#d8576b"
            ],
            [
             0.6666666666666666,
             "#ed7953"
            ],
            [
             0.7777777777777778,
             "#fb9f3a"
            ],
            [
             0.8888888888888888,
             "#fdca26"
            ],
            [
             1,
             "#f0f921"
            ]
           ],
           "sequentialminus": [
            [
             0,
             "#0d0887"
            ],
            [
             0.1111111111111111,
             "#46039f"
            ],
            [
             0.2222222222222222,
             "#7201a8"
            ],
            [
             0.3333333333333333,
             "#9c179e"
            ],
            [
             0.4444444444444444,
             "#bd3786"
            ],
            [
             0.5555555555555556,
             "#d8576b"
            ],
            [
             0.6666666666666666,
             "#ed7953"
            ],
            [
             0.7777777777777778,
             "#fb9f3a"
            ],
            [
             0.8888888888888888,
             "#fdca26"
            ],
            [
             1,
             "#f0f921"
            ]
           ]
          },
          "colorway": [
           "#636efa",
           "#EF553B",
           "#00cc96",
           "#ab63fa",
           "#FFA15A",
           "#19d3f3",
           "#FF6692",
           "#B6E880",
           "#FF97FF",
           "#FECB52"
          ],
          "font": {
           "color": "#2a3f5f"
          },
          "geo": {
           "bgcolor": "white",
           "lakecolor": "white",
           "landcolor": "#E5ECF6",
           "showlakes": true,
           "showland": true,
           "subunitcolor": "white"
          },
          "hoverlabel": {
           "align": "left"
          },
          "hovermode": "closest",
          "mapbox": {
           "style": "light"
          },
          "paper_bgcolor": "white",
          "plot_bgcolor": "#E5ECF6",
          "polar": {
           "angularaxis": {
            "gridcolor": "white",
            "linecolor": "white",
            "ticks": ""
           },
           "bgcolor": "#E5ECF6",
           "radialaxis": {
            "gridcolor": "white",
            "linecolor": "white",
            "ticks": ""
           }
          },
          "scene": {
           "xaxis": {
            "backgroundcolor": "#E5ECF6",
            "gridcolor": "white",
            "gridwidth": 2,
            "linecolor": "white",
            "showbackground": true,
            "ticks": "",
            "zerolinecolor": "white"
           },
           "yaxis": {
            "backgroundcolor": "#E5ECF6",
            "gridcolor": "white",
            "gridwidth": 2,
            "linecolor": "white",
            "showbackground": true,
            "ticks": "",
            "zerolinecolor": "white"
           },
           "zaxis": {
            "backgroundcolor": "#E5ECF6",
            "gridcolor": "white",
            "gridwidth": 2,
            "linecolor": "white",
            "showbackground": true,
            "ticks": "",
            "zerolinecolor": "white"
           }
          },
          "shapedefaults": {
           "line": {
            "color": "#2a3f5f"
           }
          },
          "ternary": {
           "aaxis": {
            "gridcolor": "white",
            "linecolor": "white",
            "ticks": ""
           },
           "baxis": {
            "gridcolor": "white",
            "linecolor": "white",
            "ticks": ""
           },
           "bgcolor": "#E5ECF6",
           "caxis": {
            "gridcolor": "white",
            "linecolor": "white",
            "ticks": ""
           }
          },
          "title": {
           "x": 0.05
          },
          "xaxis": {
           "automargin": true,
           "gridcolor": "white",
           "linecolor": "white",
           "ticks": "",
           "title": {
            "standoff": 15
           },
           "zerolinecolor": "white",
           "zerolinewidth": 2
          },
          "yaxis": {
           "automargin": true,
           "gridcolor": "white",
           "linecolor": "white",
           "ticks": "",
           "title": {
            "standoff": 15
           },
           "zerolinecolor": "white",
           "zerolinewidth": 2
          }
         }
        },
        "title": {
         "text": "Common Words in Negative Reviews (Economy Class)"
        },
        "xaxis": {
         "visible": false
        },
        "yaxis": {
         "visible": false
        }
       }
      }
     },
     "metadata": {},
     "output_type": "display_data"
    }
   ],
   "source": [
    "from wordcloud import WordCloud\n",
    "\n",
    "# Filter the polarity_df DataFrame for negative sentiment scores greater than 0.5\n",
    "negative_reviews = polarity_df[(polarity_df['negative'] > 0.5) & (polarity_df['Class'] == 'Economy Class')]\n",
    "\n",
    "# Concatenate the review content into a single string\n",
    "text = ' '.join(negative_reviews['Review Content'])\n",
    "\n",
    "# List of skip words\n",
    "skip_words = [\"will\", \"still\", \"flights\", \"could\", \"left\", \"use\", \"over\", \"such\", \"what\", \"dont\", \"pay\", \"being\", \"passenger\", \"ife\", \"overall\", \"like\", \"any\", \"no\", \"don't\", \"on\", \"with\", \"you\", \"or\", \"get\", \"would\", \"didn't\", \"really\", \"am\", \"people\", \"have\", \"our\", \"cannot\", \"been\", \"has\", \"are\", \"fly\", \"with\", \"had\", \"we\", \"be\", \"their\", \"most\", \"an\", \"were\", \"to\", \"lack\", \"ever\", \"me\", \"of\", \"good\", \"at\", \"turkish\", \"in\", \"customer\", \"never\", \"it\", \"all\", \"below\", \"so\", \"too\", \"us\", \"did\", \"my\", \"for\", \"they\", \"is\", \"disappointed\", \"poor\", \"was\", \"I\", \"flight\", \"airline\", \"emirates\", \"worst\", \"experience\", \"airlines\", \"and\", \"not\", \"a\", \"the\", \"this\", \"very\", \"them\", \"again\", \"travel\", \"from\", \"nothing\", \"quite\", \"by\", \"extremely\"]\n",
    "\n",
    "# Create a WordCloud object\n",
    "wordcloud = WordCloud(width=800, height=400, background_color='white', stopwords=skip_words).generate(text)\n",
    "\n",
    "# Convert the WordCloud object into an image\n",
    "image = wordcloud.to_image()\n",
    "\n",
    "# Create a Plotly figure\n",
    "fig = go.Figure()\n",
    "\n",
    "# Add the image to the figure\n",
    "fig.add_layout_image(\n",
    "    source=image,\n",
    "    x=0,\n",
    "    y=0.9,\n",
    "    xref=\"paper\",\n",
    "    yref=\"paper\",\n",
    "    sizex=1,\n",
    "    sizey=1,\n",
    "    sizing=\"stretch\",\n",
    "    opacity=1,\n",
    "    layer=\"below\"\n",
    ")\n",
    "\n",
    "# Configure the layout of the figure\n",
    "fig.update_layout(\n",
    "    title=\"Common Words in Negative Reviews (Economy Class)\",\n",
    "    xaxis=dict(visible=False),\n",
    "    yaxis=dict(visible=False),\n",
    "    plot_bgcolor=\"white\"\n",
    ")\n",
    "\n",
    "# Show the figure\n",
    "fig.show()\n",
    "\n"
   ]
  },
  {
   "cell_type": "code",
   "execution_count": 45,
   "metadata": {},
   "outputs": [
    {
     "name": "stdout",
     "output_type": "stream",
     "text": [
      "Accuracy: 0.7693827160493827\n"
     ]
    }
   ],
   "source": [
    "polarity_df['Sentiment Recommendation'] = (polarity_df['positive'] > 0.8)\n",
    "\n",
    "# Calculate the accuracy of the sentiment recommendation\n",
    "accuracy = polarity_df[polarity_df['Recommended'] == polarity_df['Sentiment Recommendation']].shape[0] / polarity_df.shape[0]\n",
    "\n",
    "# Print the accuracy\n",
    "print(\"Accuracy:\", accuracy)"
   ]
  },
  {
   "cell_type": "code",
   "execution_count": 53,
   "metadata": {},
   "outputs": [
    {
     "data": {
      "application/vnd.plotly.v1+json": {
       "config": {
        "plotlyServerURL": "https://plot.ly"
       },
       "data": [
        {
         "alignmentgroup": "True",
         "hovertemplate": "variable=Recommended<br>Airline=%{x}<br>value=%{y}<extra></extra>",
         "legendgroup": "Recommended",
         "marker": {
          "color": "#636efa",
          "pattern": {
           "shape": ""
          }
         },
         "name": "Recommended",
         "offsetgroup": "Recommended",
         "orientation": "v",
         "showlegend": true,
         "textposition": "auto",
         "type": "bar",
         "x": [
          "Air France",
          "All Nippon Airways",
          "Cathay Pacific Airways",
          "EVA Air",
          "Emirates",
          "Japan Airlines",
          "Korean Air",
          "Qatar Airways",
          "Singapore Airlines",
          "Turkish Airlines"
         ],
         "xaxis": "x",
         "y": [
          37.01,
          85.96,
          54.11,
          69.08,
          31.64,
          75.41,
          67.81,
          68.71,
          62.01,
          24.53
         ],
         "yaxis": "y"
        },
        {
         "alignmentgroup": "True",
         "hovertemplate": "variable=Sentiment Recommendation<br>Airline=%{x}<br>value=%{y}<extra></extra>",
         "legendgroup": "Sentiment Recommendation",
         "marker": {
          "color": "#EF553B",
          "pattern": {
           "shape": ""
          }
         },
         "name": "Sentiment Recommendation",
         "offsetgroup": "Sentiment Recommendation",
         "orientation": "v",
         "showlegend": true,
         "textposition": "auto",
         "type": "bar",
         "x": [
          "Air France",
          "All Nippon Airways",
          "Cathay Pacific Airways",
          "EVA Air",
          "Emirates",
          "Japan Airlines",
          "Korean Air",
          "Qatar Airways",
          "Singapore Airlines",
          "Turkish Airlines"
         ],
         "xaxis": "x",
         "y": [
          23.84,
          57.89,
          29.22,
          53.95,
          16.28,
          42.62,
          33.56,
          45.24,
          37.83,
          14.11
         ],
         "yaxis": "y"
        }
       ],
       "layout": {
        "barmode": "group",
        "legend": {
         "title": {
          "text": "variable"
         },
         "tracegroupgap": 0
        },
        "template": {
         "data": {
          "bar": [
           {
            "error_x": {
             "color": "#2a3f5f"
            },
            "error_y": {
             "color": "#2a3f5f"
            },
            "marker": {
             "line": {
              "color": "#E5ECF6",
              "width": 0.5
             },
             "pattern": {
              "fillmode": "overlay",
              "size": 10,
              "solidity": 0.2
             }
            },
            "type": "bar"
           }
          ],
          "barpolar": [
           {
            "marker": {
             "line": {
              "color": "#E5ECF6",
              "width": 0.5
             },
             "pattern": {
              "fillmode": "overlay",
              "size": 10,
              "solidity": 0.2
             }
            },
            "type": "barpolar"
           }
          ],
          "carpet": [
           {
            "aaxis": {
             "endlinecolor": "#2a3f5f",
             "gridcolor": "white",
             "linecolor": "white",
             "minorgridcolor": "white",
             "startlinecolor": "#2a3f5f"
            },
            "baxis": {
             "endlinecolor": "#2a3f5f",
             "gridcolor": "white",
             "linecolor": "white",
             "minorgridcolor": "white",
             "startlinecolor": "#2a3f5f"
            },
            "type": "carpet"
           }
          ],
          "choropleth": [
           {
            "colorbar": {
             "outlinewidth": 0,
             "ticks": ""
            },
            "type": "choropleth"
           }
          ],
          "contour": [
           {
            "colorbar": {
             "outlinewidth": 0,
             "ticks": ""
            },
            "colorscale": [
             [
              0,
              "#0d0887"
             ],
             [
              0.1111111111111111,
              "#46039f"
             ],
             [
              0.2222222222222222,
              "#7201a8"
             ],
             [
              0.3333333333333333,
              "#9c179e"
             ],
             [
              0.4444444444444444,
              "#bd3786"
             ],
             [
              0.5555555555555556,
              "#d8576b"
             ],
             [
              0.6666666666666666,
              "#ed7953"
             ],
             [
              0.7777777777777778,
              "#fb9f3a"
             ],
             [
              0.8888888888888888,
              "#fdca26"
             ],
             [
              1,
              "#f0f921"
             ]
            ],
            "type": "contour"
           }
          ],
          "contourcarpet": [
           {
            "colorbar": {
             "outlinewidth": 0,
             "ticks": ""
            },
            "type": "contourcarpet"
           }
          ],
          "heatmap": [
           {
            "colorbar": {
             "outlinewidth": 0,
             "ticks": ""
            },
            "colorscale": [
             [
              0,
              "#0d0887"
             ],
             [
              0.1111111111111111,
              "#46039f"
             ],
             [
              0.2222222222222222,
              "#7201a8"
             ],
             [
              0.3333333333333333,
              "#9c179e"
             ],
             [
              0.4444444444444444,
              "#bd3786"
             ],
             [
              0.5555555555555556,
              "#d8576b"
             ],
             [
              0.6666666666666666,
              "#ed7953"
             ],
             [
              0.7777777777777778,
              "#fb9f3a"
             ],
             [
              0.8888888888888888,
              "#fdca26"
             ],
             [
              1,
              "#f0f921"
             ]
            ],
            "type": "heatmap"
           }
          ],
          "heatmapgl": [
           {
            "colorbar": {
             "outlinewidth": 0,
             "ticks": ""
            },
            "colorscale": [
             [
              0,
              "#0d0887"
             ],
             [
              0.1111111111111111,
              "#46039f"
             ],
             [
              0.2222222222222222,
              "#7201a8"
             ],
             [
              0.3333333333333333,
              "#9c179e"
             ],
             [
              0.4444444444444444,
              "#bd3786"
             ],
             [
              0.5555555555555556,
              "#d8576b"
             ],
             [
              0.6666666666666666,
              "#ed7953"
             ],
             [
              0.7777777777777778,
              "#fb9f3a"
             ],
             [
              0.8888888888888888,
              "#fdca26"
             ],
             [
              1,
              "#f0f921"
             ]
            ],
            "type": "heatmapgl"
           }
          ],
          "histogram": [
           {
            "marker": {
             "pattern": {
              "fillmode": "overlay",
              "size": 10,
              "solidity": 0.2
             }
            },
            "type": "histogram"
           }
          ],
          "histogram2d": [
           {
            "colorbar": {
             "outlinewidth": 0,
             "ticks": ""
            },
            "colorscale": [
             [
              0,
              "#0d0887"
             ],
             [
              0.1111111111111111,
              "#46039f"
             ],
             [
              0.2222222222222222,
              "#7201a8"
             ],
             [
              0.3333333333333333,
              "#9c179e"
             ],
             [
              0.4444444444444444,
              "#bd3786"
             ],
             [
              0.5555555555555556,
              "#d8576b"
             ],
             [
              0.6666666666666666,
              "#ed7953"
             ],
             [
              0.7777777777777778,
              "#fb9f3a"
             ],
             [
              0.8888888888888888,
              "#fdca26"
             ],
             [
              1,
              "#f0f921"
             ]
            ],
            "type": "histogram2d"
           }
          ],
          "histogram2dcontour": [
           {
            "colorbar": {
             "outlinewidth": 0,
             "ticks": ""
            },
            "colorscale": [
             [
              0,
              "#0d0887"
             ],
             [
              0.1111111111111111,
              "#46039f"
             ],
             [
              0.2222222222222222,
              "#7201a8"
             ],
             [
              0.3333333333333333,
              "#9c179e"
             ],
             [
              0.4444444444444444,
              "#bd3786"
             ],
             [
              0.5555555555555556,
              "#d8576b"
             ],
             [
              0.6666666666666666,
              "#ed7953"
             ],
             [
              0.7777777777777778,
              "#fb9f3a"
             ],
             [
              0.8888888888888888,
              "#fdca26"
             ],
             [
              1,
              "#f0f921"
             ]
            ],
            "type": "histogram2dcontour"
           }
          ],
          "mesh3d": [
           {
            "colorbar": {
             "outlinewidth": 0,
             "ticks": ""
            },
            "type": "mesh3d"
           }
          ],
          "parcoords": [
           {
            "line": {
             "colorbar": {
              "outlinewidth": 0,
              "ticks": ""
             }
            },
            "type": "parcoords"
           }
          ],
          "pie": [
           {
            "automargin": true,
            "type": "pie"
           }
          ],
          "scatter": [
           {
            "fillpattern": {
             "fillmode": "overlay",
             "size": 10,
             "solidity": 0.2
            },
            "type": "scatter"
           }
          ],
          "scatter3d": [
           {
            "line": {
             "colorbar": {
              "outlinewidth": 0,
              "ticks": ""
             }
            },
            "marker": {
             "colorbar": {
              "outlinewidth": 0,
              "ticks": ""
             }
            },
            "type": "scatter3d"
           }
          ],
          "scattercarpet": [
           {
            "marker": {
             "colorbar": {
              "outlinewidth": 0,
              "ticks": ""
             }
            },
            "type": "scattercarpet"
           }
          ],
          "scattergeo": [
           {
            "marker": {
             "colorbar": {
              "outlinewidth": 0,
              "ticks": ""
             }
            },
            "type": "scattergeo"
           }
          ],
          "scattergl": [
           {
            "marker": {
             "colorbar": {
              "outlinewidth": 0,
              "ticks": ""
             }
            },
            "type": "scattergl"
           }
          ],
          "scattermapbox": [
           {
            "marker": {
             "colorbar": {
              "outlinewidth": 0,
              "ticks": ""
             }
            },
            "type": "scattermapbox"
           }
          ],
          "scatterpolar": [
           {
            "marker": {
             "colorbar": {
              "outlinewidth": 0,
              "ticks": ""
             }
            },
            "type": "scatterpolar"
           }
          ],
          "scatterpolargl": [
           {
            "marker": {
             "colorbar": {
              "outlinewidth": 0,
              "ticks": ""
             }
            },
            "type": "scatterpolargl"
           }
          ],
          "scatterternary": [
           {
            "marker": {
             "colorbar": {
              "outlinewidth": 0,
              "ticks": ""
             }
            },
            "type": "scatterternary"
           }
          ],
          "surface": [
           {
            "colorbar": {
             "outlinewidth": 0,
             "ticks": ""
            },
            "colorscale": [
             [
              0,
              "#0d0887"
             ],
             [
              0.1111111111111111,
              "#46039f"
             ],
             [
              0.2222222222222222,
              "#7201a8"
             ],
             [
              0.3333333333333333,
              "#9c179e"
             ],
             [
              0.4444444444444444,
              "#bd3786"
             ],
             [
              0.5555555555555556,
              "#d8576b"
             ],
             [
              0.6666666666666666,
              "#ed7953"
             ],
             [
              0.7777777777777778,
              "#fb9f3a"
             ],
             [
              0.8888888888888888,
              "#fdca26"
             ],
             [
              1,
              "#f0f921"
             ]
            ],
            "type": "surface"
           }
          ],
          "table": [
           {
            "cells": {
             "fill": {
              "color": "#EBF0F8"
             },
             "line": {
              "color": "white"
             }
            },
            "header": {
             "fill": {
              "color": "#C8D4E3"
             },
             "line": {
              "color": "white"
             }
            },
            "type": "table"
           }
          ]
         },
         "layout": {
          "annotationdefaults": {
           "arrowcolor": "#2a3f5f",
           "arrowhead": 0,
           "arrowwidth": 1
          },
          "autotypenumbers": "strict",
          "coloraxis": {
           "colorbar": {
            "outlinewidth": 0,
            "ticks": ""
           }
          },
          "colorscale": {
           "diverging": [
            [
             0,
             "#8e0152"
            ],
            [
             0.1,
             "#c51b7d"
            ],
            [
             0.2,
             "#de77ae"
            ],
            [
             0.3,
             "#f1b6da"
            ],
            [
             0.4,
             "#fde0ef"
            ],
            [
             0.5,
             "#f7f7f7"
            ],
            [
             0.6,
             "#e6f5d0"
            ],
            [
             0.7,
             "#b8e186"
            ],
            [
             0.8,
             "#7fbc41"
            ],
            [
             0.9,
             "#4d9221"
            ],
            [
             1,
             "#276419"
            ]
           ],
           "sequential": [
            [
             0,
             "#0d0887"
            ],
            [
             0.1111111111111111,
             "#46039f"
            ],
            [
             0.2222222222222222,
             "#7201a8"
            ],
            [
             0.3333333333333333,
             "#9c179e"
            ],
            [
             0.4444444444444444,
             "#bd3786"
            ],
            [
             0.5555555555555556,
             "#d8576b"
            ],
            [
             0.6666666666666666,
             "#ed7953"
            ],
            [
             0.7777777777777778,
             "#fb9f3a"
            ],
            [
             0.8888888888888888,
             "#fdca26"
            ],
            [
             1,
             "#f0f921"
            ]
           ],
           "sequentialminus": [
            [
             0,
             "#0d0887"
            ],
            [
             0.1111111111111111,
             "#46039f"
            ],
            [
             0.2222222222222222,
             "#7201a8"
            ],
            [
             0.3333333333333333,
             "#9c179e"
            ],
            [
             0.4444444444444444,
             "#bd3786"
            ],
            [
             0.5555555555555556,
             "#d8576b"
            ],
            [
             0.6666666666666666,
             "#ed7953"
            ],
            [
             0.7777777777777778,
             "#fb9f3a"
            ],
            [
             0.8888888888888888,
             "#fdca26"
            ],
            [
             1,
             "#f0f921"
            ]
           ]
          },
          "colorway": [
           "#636efa",
           "#EF553B",
           "#00cc96",
           "#ab63fa",
           "#FFA15A",
           "#19d3f3",
           "#FF6692",
           "#B6E880",
           "#FF97FF",
           "#FECB52"
          ],
          "font": {
           "color": "#2a3f5f"
          },
          "geo": {
           "bgcolor": "white",
           "lakecolor": "white",
           "landcolor": "#E5ECF6",
           "showlakes": true,
           "showland": true,
           "subunitcolor": "white"
          },
          "hoverlabel": {
           "align": "left"
          },
          "hovermode": "closest",
          "mapbox": {
           "style": "light"
          },
          "paper_bgcolor": "white",
          "plot_bgcolor": "#E5ECF6",
          "polar": {
           "angularaxis": {
            "gridcolor": "white",
            "linecolor": "white",
            "ticks": ""
           },
           "bgcolor": "#E5ECF6",
           "radialaxis": {
            "gridcolor": "white",
            "linecolor": "white",
            "ticks": ""
           }
          },
          "scene": {
           "xaxis": {
            "backgroundcolor": "#E5ECF6",
            "gridcolor": "white",
            "gridwidth": 2,
            "linecolor": "white",
            "showbackground": true,
            "ticks": "",
            "zerolinecolor": "white"
           },
           "yaxis": {
            "backgroundcolor": "#E5ECF6",
            "gridcolor": "white",
            "gridwidth": 2,
            "linecolor": "white",
            "showbackground": true,
            "ticks": "",
            "zerolinecolor": "white"
           },
           "zaxis": {
            "backgroundcolor": "#E5ECF6",
            "gridcolor": "white",
            "gridwidth": 2,
            "linecolor": "white",
            "showbackground": true,
            "ticks": "",
            "zerolinecolor": "white"
           }
          },
          "shapedefaults": {
           "line": {
            "color": "#2a3f5f"
           }
          },
          "ternary": {
           "aaxis": {
            "gridcolor": "white",
            "linecolor": "white",
            "ticks": ""
           },
           "baxis": {
            "gridcolor": "white",
            "linecolor": "white",
            "ticks": ""
           },
           "bgcolor": "#E5ECF6",
           "caxis": {
            "gridcolor": "white",
            "linecolor": "white",
            "ticks": ""
           }
          },
          "title": {
           "x": 0.05
          },
          "xaxis": {
           "automargin": true,
           "gridcolor": "white",
           "linecolor": "white",
           "ticks": "",
           "title": {
            "standoff": 15
           },
           "zerolinecolor": "white",
           "zerolinewidth": 2
          },
          "yaxis": {
           "automargin": true,
           "gridcolor": "white",
           "linecolor": "white",
           "ticks": "",
           "title": {
            "standoff": 15
           },
           "zerolinecolor": "white",
           "zerolinewidth": 2
          }
         }
        },
        "title": {
         "text": "Comparison of Recommendations by Airline (Economy Class)"
        },
        "xaxis": {
         "anchor": "y",
         "domain": [
          0,
          1
         ],
         "title": {
          "text": "Airline"
         }
        },
        "yaxis": {
         "anchor": "x",
         "domain": [
          0,
          1
         ],
         "range": [
          0,
          100
         ],
         "title": {
          "text": "value"
         }
        }
       }
      }
     },
     "metadata": {},
     "output_type": "display_data"
    }
   ],
   "source": [
    "# Filter the polarity_df DataFrame for 'Economy Class' and group by 'Airline'\n",
    "grouped_pdf = polarity_df[polarity_df['Class'] == 'Economy Class'].groupby('Airline').agg({'Recommended': 'mean', 'Sentiment Recommendation': 'mean'}).reset_index()\n",
    "\n",
    "grouped_pdf['Recommended'] = grouped_pdf['Recommended'] * 100\n",
    "grouped_pdf['Sentiment Recommendation'] = grouped_pdf['Sentiment Recommendation'] * 100\n",
    "\n",
    "grouped_pdf['Recommended'] = grouped_pdf['Recommended'].round(2)\n",
    "grouped_pdf['Sentiment Recommendation'] = grouped_pdf['Sentiment Recommendation'].round(2)\n",
    "\n",
    "# Create a bar chart\n",
    "fig = px.bar(grouped_pdf, x='Airline', y=['Recommended', 'Sentiment Recommendation'], barmode='group', title=\"Comparison of Recommendations by Airline (Economy Class)\")\n",
    "\n",
    "# Set the y-axis range to [0, 1]\n",
    "fig.update_layout(yaxis_range=[0, 100])\n",
    "\n",
    "# Show the bar chart\n",
    "fig.show()"
   ]
  },
  {
   "cell_type": "code",
   "execution_count": 153,
   "metadata": {},
   "outputs": [],
   "source": [
    "# Quit the session\n",
    "spark.stop()"
   ]
  }
 ],
 "metadata": {
  "kernelspec": {
   "display_name": "Python 3",
   "language": "python",
   "name": "python3"
  },
  "language_info": {
   "codemirror_mode": {
    "name": "ipython",
    "version": 3
   },
   "file_extension": ".py",
   "mimetype": "text/x-python",
   "name": "python",
   "nbconvert_exporter": "python",
   "pygments_lexer": "ipython3",
   "version": "3.12.1"
  }
 },
 "nbformat": 4,
 "nbformat_minor": 2
}
